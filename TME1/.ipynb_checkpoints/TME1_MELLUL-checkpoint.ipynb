{
 "cells": [
  {
   "cell_type": "markdown",
   "id": "6440caa5",
   "metadata": {},
   "source": [
    "# TME 1 - Arbres de décision, sélection de modèles"
   ]
  },
  {
   "cell_type": "code",
   "execution_count": 1,
   "id": "21a59074",
   "metadata": {},
   "outputs": [
    {
     "name": "stderr",
     "output_type": "stream",
     "text": [
      "Matplotlib is building the font cache; this may take a moment.\n"
     ]
    }
   ],
   "source": [
    "import numpy as np\n",
    "import collections as cl\n",
    "import pickle\n",
    "from sklearn . tree import export_graphviz\n",
    "from sklearn . tree import DecisionTreeClassifier as DTree\n",
    "import pydotplus\n",
    "from IPython.display import IFrame\n",
    "from IPython.display import Image\n",
    "from sklearn.model_selection import train_test_split\n",
    "from sklearn import datasets\n",
    "from sklearn import svm\n",
    "import matplotlib.pyplot as plt\n",
    "import time"
   ]
  },
  {
   "cell_type": "markdown",
   "id": "ae775234",
   "metadata": {},
   "source": [
    "## L'essentiel sur les arbres de décision\n",
    "### Exercice 1 - Entropie\n",
    "Le but de cet exercice est d’implémenter les fonctions utiles au calcul du partitionnement optimal, i.e.\n",
    "les fonctions de calcul d’entropie. Ne passer pas trop de temps sur cette partie ! Passer si vous n’y\n",
    "arrivez pas. Il n’est pas nécessaire de coder ces fonctions pour la suite du TME."
   ]
  },
  {
   "cell_type": "markdown",
   "id": "505c92e3",
   "metadata": {},
   "source": [
    "#### 1.1  Soit un objet itérable vect (une liste ou un vecteur numpy par exemple) qui contient une liste de label. Coder une fonction entropie(vect) qui calcule l’entropie de ce vecteur."
   ]
  },
  {
   "cell_type": "code",
   "execution_count": 2,
   "id": "5074757f",
   "metadata": {},
   "outputs": [],
   "source": [
    "def entropie(vect):\n",
    "    entrop = 0\n",
    "    hist = cl.Counter(vect)\n",
    "    n = len(vect)\n",
    "    for label in hist:\n",
    "        py = hist[label]/n\n",
    "        entrop += py*np.log(py)\n",
    "    \n",
    "    return -entrop"
   ]
  },
  {
   "cell_type": "markdown",
   "id": "3117e1f9",
   "metadata": {},
   "source": [
    "#### 1.2  Coder la fonction entropie_cond(list_vect) qui à partir d’une liste de listes de labels (la partition des labels), calcule l’entropie conditionnelle de la partition."
   ]
  },
  {
   "cell_type": "code",
   "execution_count": 3,
   "id": "2e19f777",
   "metadata": {},
   "outputs": [],
   "source": [
    "def entropie_cond(list_vect):\n",
    "    n = 0\n",
    "    entrop = 0\n",
    "    for vect in list_vect:\n",
    "        pPi = len(vect)\n",
    "        entrop += pPi * entropie(vect)\n",
    "        n += len(vect)\n",
    "    return entrop/n"
   ]
  },
  {
   "cell_type": "markdown",
   "id": "138edf84",
   "metadata": {},
   "source": [
    "#### 1.3  Calculer pour chaque attribut binaire l’entropie et l’entropie conditionnelle du vote selon la partition induite par l’attribut (les exemples dont la valeur de l’attribut est 1 vs les autres). Calculer également la différence entre l’entropie et l’entropie conditionnelle pour chaque attribut."
   ]
  },
  {
   "cell_type": "code",
   "execution_count": 4,
   "id": "8f6f5f4d",
   "metadata": {},
   "outputs": [
    {
     "data": {
      "text/plain": [
       "['Sci-Fi',\n",
       " 'Crime',\n",
       " 'Romance',\n",
       " 'Animation',\n",
       " 'Music',\n",
       " 'Comedy',\n",
       " 'War',\n",
       " 'Horror',\n",
       " 'Film-Noir',\n",
       " 'Adult',\n",
       " 'News',\n",
       " 'Reality-TV',\n",
       " 'Thriller',\n",
       " 'Western',\n",
       " 'Mystery',\n",
       " 'Short',\n",
       " 'Talk-Show',\n",
       " 'Drama',\n",
       " 'Action',\n",
       " 'Documentary',\n",
       " 'Musical',\n",
       " 'History',\n",
       " 'Family',\n",
       " 'Adventure',\n",
       " 'Fantasy',\n",
       " 'Game-Show',\n",
       " 'Sport',\n",
       " 'Biography',\n",
       " 'Duree',\n",
       " 'couleur',\n",
       " 'annee',\n",
       " 'budget']"
      ]
     },
     "execution_count": 4,
     "metadata": {},
     "output_type": "execute_result"
    }
   ],
   "source": [
    "# data : tableau ( films , features ) , id2titles : dictionnaire id -> titre ,\n",
    "# fields : id feature -> nom\n",
    "[ data , id2titles , fields ]= pickle.load(open(\"imdb_extrait.pkl\",\"rb\"))\n",
    "# la derniere colonne est le vote\n",
    "datax = data [: ,:32]\n",
    "datay = np.array ([1 if x[33]>6.5 else -1 for x in data ])\n",
    "id2genre = [ x[1] for x in sorted (fields.items())[:-2]]\n",
    "id2genre"
   ]
  },
  {
   "cell_type": "code",
   "execution_count": 5,
   "id": "4380b25e",
   "metadata": {},
   "outputs": [
    {
     "name": "stdout",
     "output_type": "stream",
     "text": [
      "(4587, 34)\n",
      "(4587, 32)\n",
      "(4587,)\n"
     ]
    }
   ],
   "source": [
    "print(data.shape)\n",
    "print(datax.shape)\n",
    "print(datay.shape)"
   ]
  },
  {
   "cell_type": "code",
   "execution_count": 6,
   "id": "37b640e8",
   "metadata": {
    "scrolled": false
   },
   "outputs": [
    {
     "name": "stdout",
     "output_type": "stream",
     "text": [
      "----------------------\n",
      "Sci-Fi\n",
      "entropie : 0.39161210183852996\n",
      "entropie conditionnelle : 0.6799402806092876\n",
      "différence : 0.2883281787707576\n",
      "----------------------\n",
      "Crime\n",
      "entropie : 0.5029905774584\n",
      "entropie conditionnelle : 0.6836092907830238\n",
      "différence : 0.18061871332462376\n",
      "----------------------\n",
      "Romance\n",
      "entropie : 0.5226986043605234\n",
      "entropie conditionnelle : 0.6840711988780971\n",
      "différence : 0.1613725945175737\n",
      "----------------------\n",
      "Animation\n",
      "entropie : 0.18257760424522337\n",
      "entropie conditionnelle : 0.6825230243876741\n",
      "différence : 0.4999454201424507\n",
      "----------------------\n",
      "Music\n",
      "entropie : 0.13351996077339376\n",
      "entropie conditionnelle : 0.6840615675797059\n",
      "différence : 0.5505416068063121\n",
      "----------------------\n",
      "Comedy\n",
      "entropie : 0.6576445592687681\n",
      "entropie conditionnelle : 0.6729819945731972\n",
      "différence : 0.015337435304429103\n",
      "----------------------\n",
      "War\n",
      "entropie : 0.1839105713426079\n",
      "entropie conditionnelle : 0.6777655712037746\n",
      "différence : 0.49385499986116665\n",
      "----------------------\n",
      "Horror\n",
      "entropie : 0.3706267359411901\n",
      "entropie conditionnelle : 0.6683431307224852\n",
      "différence : 0.2977163947812951\n",
      "----------------------\n",
      "Film-Noir\n",
      "entropie : 0.02804912130592066\n",
      "entropie conditionnelle : 0.6815939054062172\n",
      "différence : 0.6535447841002966\n",
      "----------------------\n",
      "Adult\n",
      "entropie : -0.0\n",
      "entropie conditionnelle : 0.6840731540145955\n",
      "différence : 0.6840731540145955\n",
      "----------------------\n",
      "News\n",
      "entropie : -0.0\n",
      "entropie conditionnelle : 0.6840731540145955\n",
      "différence : 0.6840731540145955\n",
      "----------------------\n",
      "Reality-TV\n",
      "entropie : -0.0\n",
      "entropie conditionnelle : 0.6840731540145955\n",
      "différence : 0.6840731540145955\n",
      "----------------------\n",
      "Thriller\n",
      "entropie : 0.6310937701018793\n",
      "entropie conditionnelle : 0.6761353305479341\n",
      "différence : 0.045041560446054785\n",
      "----------------------\n",
      "Western\n",
      "entropie : 0.09226413958416584\n",
      "entropie conditionnelle : 0.6826637243011309\n",
      "différence : 0.5903995847169651\n",
      "----------------------\n",
      "Mystery\n",
      "entropie : 0.34259123937486247\n",
      "entropie conditionnelle : 0.6839854832157543\n",
      "différence : 0.3413942438408918\n",
      "----------------------\n",
      "Short\n",
      "entropie : 0.005449340826354803\n",
      "entropie conditionnelle : 0.6837021955748285\n",
      "différence : 0.6782528547484736\n",
      "----------------------\n",
      "Talk-Show\n",
      "entropie : -0.0\n",
      "entropie conditionnelle : 0.6840731540145955\n",
      "différence : 0.6840731540145955\n",
      "----------------------\n",
      "Drama\n",
      "entropie : 0.6930901230329778\n",
      "entropie conditionnelle : 0.6420254354524771\n",
      "différence : 0.051064687580500645\n",
      "----------------------\n",
      "Action\n",
      "entropie : 0.5616755451806462\n",
      "entropie conditionnelle : 0.6726791714737774\n",
      "différence : 0.11100362629313121\n",
      "----------------------\n",
      "Documentary\n",
      "entropie : 0.040506176945848064\n",
      "entropie conditionnelle : 0.6832027129781834\n",
      "différence : 0.6426965360323353\n",
      "----------------------\n",
      "Musical\n",
      "entropie : 0.12270594846913979\n",
      "entropie conditionnelle : 0.6823680066637311\n",
      "différence : 0.5596620581945912\n",
      "----------------------\n",
      "History\n",
      "entropie : 0.15848948292932769\n",
      "entropie conditionnelle : 0.6746200639502071\n",
      "différence : 0.5161305810208794\n",
      "----------------------\n",
      "Family\n",
      "entropie : 0.3121017959031388\n",
      "entropie conditionnelle : 0.6827689605873292\n",
      "différence : 0.37066716468419036\n",
      "----------------------\n",
      "Adventure\n",
      "entropie : 0.479345020202369\n",
      "entropie conditionnelle : 0.6838846710199322\n",
      "différence : 0.2045396508175632\n",
      "----------------------\n",
      "Fantasy\n",
      "entropie : 0.3566182954212056\n",
      "entropie conditionnelle : 0.6824910169613548\n",
      "différence : 0.32587272154014923\n",
      "----------------------\n",
      "Game-Show\n",
      "entropie : -0.0\n",
      "entropie conditionnelle : 0.6840731540145955\n",
      "différence : 0.6840731540145955\n",
      "----------------------\n",
      "Sport\n",
      "entropie : 0.1365487080337603\n",
      "entropie conditionnelle : 0.6840720363731843\n",
      "différence : 0.547523328339424\n",
      "----------------------\n",
      "Biography\n",
      "entropie : 0.2121847658663779\n",
      "entropie conditionnelle : 0.6694583157569577\n",
      "différence : 0.4572735498905798\n"
     ]
    }
   ],
   "source": [
    "ent = np.zeros(28)\n",
    "ent_cond = np.zeros(28)\n",
    "diff_ent = np.zeros(28)\n",
    "for i in range(28):\n",
    "    vecti = datax[:,i]  #i-ème feature\n",
    "\n",
    "    #calculs\n",
    "    ent[i] = entropie(vecti)\n",
    "    list_vecti = [datay[(vecti==1)],datay[vecti!=1]]\n",
    "    ent_cond[i] = entropie_cond(list_vecti)\n",
    "    diff_ent[i] = np.abs(ent[i] - ent_cond[i])\n",
    "    \n",
    "    #affichage\n",
    "    print(\"----------------------\")\n",
    "    print(fields[i])\n",
    "    print(\"entropie :\", ent[i])\n",
    "    print(\"entropie conditionnelle :\",ent_cond[i])\n",
    "    print(\"différence :\",diff_ent[i])\n"
   ]
  },
  {
   "cell_type": "markdown",
   "id": "07c6f872",
   "metadata": {},
   "source": [
    "##### A quoi correspond une valeur de 0 ? une valeur de 1 ?"
   ]
  },
  {
   "cell_type": "raw",
   "id": "037676d6",
   "metadata": {},
   "source": [
    "reponse a ecrire"
   ]
  },
  {
   "cell_type": "markdown",
   "id": "2c0bfb0f",
   "metadata": {},
   "source": [
    "##### Quel est le meilleur attribut pour la première partition ?"
   ]
  },
  {
   "cell_type": "raw",
   "id": "8c8bdc65",
   "metadata": {},
   "source": [
    "a developper"
   ]
  },
  {
   "cell_type": "code",
   "execution_count": 7,
   "id": "c08d320f",
   "metadata": {},
   "outputs": [
    {
     "name": "stdout",
     "output_type": "stream",
     "text": [
      "Drama\n",
      "Drama\n"
     ]
    }
   ],
   "source": [
    "print(fields[np.argmax(ent)])\n",
    "print(fields[np.argmin(ent_cond)])"
   ]
  },
  {
   "cell_type": "markdown",
   "id": "6edf22ab",
   "metadata": {},
   "source": [
    "## Quelques expériences préliminaires"
   ]
  },
  {
   "cell_type": "markdown",
   "id": "b9d352f7",
   "metadata": {},
   "source": [
    "#### 1.4  Sur la base de données imdb, apprendre quelques arbres de profondeurs différentes. Visualiser-les."
   ]
  },
  {
   "cell_type": "code",
   "execution_count": 8,
   "id": "e4b777c5",
   "metadata": {},
   "outputs": [],
   "source": [
    "def generate_dt(taille_max, min_samples_split = 2):\n",
    "    dt = DTree ()\n",
    "    dt.max_depth = taille_max # on fixe la taille max de l ’ arbre\n",
    "    dt.min_samples_split = 2 # nombre minimum d ’ exemples pour spliter un noeud\n",
    "    return dt"
   ]
  },
  {
   "cell_type": "code",
   "execution_count": 9,
   "id": "3dcb0e81",
   "metadata": {},
   "outputs": [
    {
     "name": "stdout",
     "output_type": "stream",
     "text": [
      "Profondeur maximum =  3 :\n",
      "   Score =  0.7183344233703945 \n",
      "\n",
      "Profondeur maximum =  5 :\n",
      "   Score =  0.736647045999564 \n",
      "\n",
      "Profondeur maximum =  7 :\n",
      "   Score =  0.775888380204927 \n",
      "\n",
      "Profondeur maximum =  9 :\n",
      "   Score =  0.8238500109003706 \n",
      "\n",
      "Profondeur maximum =  11 :\n",
      "   Score =  0.8726836712448224 \n",
      "\n",
      "Profondeur maximum =  13 :\n",
      "   Score =  0.9119250054501853 \n",
      "\n",
      "Profondeur maximum =  15 :\n",
      "   Score =  0.947242206235012 \n",
      "\n"
     ]
    }
   ],
   "source": [
    "for taille_max in range(3,16, 2):\n",
    "    print('Profondeur maximum = ',taille_max,':')\n",
    "    dt = generate_dt(taille_max)\n",
    "    dt.fit(datax, datay)\n",
    "    dt.predict(datax[:5 ,:])\n",
    "    print('   Score = ',dt.score(datax, datay), '\\n')\n",
    "    tdot = export_graphviz ( dt , feature_names = id2genre )\n",
    "    pydotplus.graph_from_dot_data(tdot).write_pdf('./figs/tree'+str(taille_max)+'.pdf')\n",
    "#IFrame(\"./figs/tree\"+str(taille_max)+\".pdf\", width=600, height=300)"
   ]
  },
  {
   "cell_type": "code",
   "execution_count": 10,
   "id": "c053e57e",
   "metadata": {},
   "outputs": [
    {
     "data": {
      "text/html": [
       "\n",
       "        <iframe\n",
       "            width=\"600\"\n",
       "            height=\"300\"\n",
       "            src=\"./figs/tree3.pdf\"\n",
       "            frameborder=\"0\"\n",
       "            allowfullscreen\n",
       "            \n",
       "        ></iframe>\n",
       "        "
      ],
      "text/plain": [
       "<IPython.lib.display.IFrame at 0x7fe8d05c94c0>"
      ]
     },
     "execution_count": 10,
     "metadata": {},
     "output_type": "execute_result"
    }
   ],
   "source": [
    "IFrame(\"./figs/tree3.pdf\", width=600, height=300)"
   ]
  },
  {
   "cell_type": "code",
   "execution_count": 11,
   "id": "e0f1288c",
   "metadata": {},
   "outputs": [
    {
     "data": {
      "text/html": [
       "\n",
       "        <iframe\n",
       "            width=\"600\"\n",
       "            height=\"300\"\n",
       "            src=\"./figs/tree9.pdf\"\n",
       "            frameborder=\"0\"\n",
       "            allowfullscreen\n",
       "            \n",
       "        ></iframe>\n",
       "        "
      ],
      "text/plain": [
       "<IPython.lib.display.IFrame at 0x7fe8a9967a00>"
      ]
     },
     "execution_count": 11,
     "metadata": {},
     "output_type": "execute_result"
    }
   ],
   "source": [
    "IFrame(\"./figs/tree9.pdf\", width=600, height=300)"
   ]
  },
  {
   "cell_type": "code",
   "execution_count": 12,
   "id": "1a20e36f",
   "metadata": {},
   "outputs": [
    {
     "data": {
      "text/html": [
       "\n",
       "        <iframe\n",
       "            width=\"600\"\n",
       "            height=\"300\"\n",
       "            src=\"./figs/tree15.pdf\"\n",
       "            frameborder=\"0\"\n",
       "            allowfullscreen\n",
       "            \n",
       "        ></iframe>\n",
       "        "
      ],
      "text/plain": [
       "<IPython.lib.display.IFrame at 0x7fe8a9967f70>"
      ]
     },
     "execution_count": 12,
     "metadata": {},
     "output_type": "execute_result"
    }
   ],
   "source": [
    "IFrame(\"./figs/tree15.pdf\", width=600, height=300)"
   ]
  },
  {
   "cell_type": "markdown",
   "id": "ae1da102",
   "metadata": {},
   "source": [
    "##### Que remarquez-vous quant au nombre d’exemples séparés à chaque niveau en fonction de la profondeur ?"
   ]
  },
  {
   "cell_type": "markdown",
   "id": "4a66d403",
   "metadata": {},
   "source": [
    "On remarque que plus on est en profondeur dans l'arbre, moins d'exemples sont separés. C'est tout à fait logique!"
   ]
  },
  {
   "cell_type": "markdown",
   "id": "3427b16b",
   "metadata": {},
   "source": [
    "##### 1.5 - Calculer les scores de bonne classification. Comment ils évoluent en fonction de la profondeur ? Est-ce normal ?\n",
    "Les scores s'améliorent avec la profondeur. C'est logique car il y a plus de séparations de cas. Il faudra néanmoins faire attention au sur apprentissage."
   ]
  },
  {
   "cell_type": "markdown",
   "id": "cd67464e",
   "metadata": {},
   "source": [
    "##### 1.6 - Ces scores sont-ils un indicateur fiable du comportement de l’algorithme ? Comment obtenir un indicateur plus fiable ?"
   ]
  },
  {
   "cell_type": "markdown",
   "id": "ec50a2a9",
   "metadata": {},
   "source": [
    "## Sur et sous-apprentissage"
   ]
  },
  {
   "cell_type": "markdown",
   "id": "cd031459",
   "metadata": {},
   "source": [
    "##### 1.7 - Pour différents partitionnement, par exemple des partages en (0.2, 0.8), (0.5, 0.5), (0.8, 0.2)), tracer les courbes de l’erreur en apprentissage et de l’erreur en test en fonction de la profondeur du modèle."
   ]
  },
  {
   "cell_type": "code",
   "execution_count": 13,
   "id": "305a4c20",
   "metadata": {},
   "outputs": [],
   "source": [
    "def partage(datax, datay, pourc_app):\n",
    "    n = len(datax)\n",
    "    datax_app = datax[:int(n*pourc_app)]\n",
    "    datax_test = datax[int(n*pourc_app):]\n",
    "    datay_app = datay[:int(n*pourc_app)]\n",
    "    datay_test = datay[int(n*pourc_app):]\n",
    "    return datax_app, datax_test, datay_app, datay_test"
   ]
  },
  {
   "cell_type": "code",
   "execution_count": 14,
   "id": "8ee64c00",
   "metadata": {},
   "outputs": [],
   "source": [
    "def compute_error(depths):\n",
    "    scores_app = [] \n",
    "    scores_test = [] \n",
    "    for max_depth in depths :\n",
    "        id2genre = [ x[1] for x in sorted (fields.items())[:-2]]\n",
    "        dt = generate_dt(max_depth)\n",
    "        dt.fit(datax_app, datay_app)\n",
    "        scores_app.append(1 - dt.score(datax_app, datay_app))\n",
    "        scores_test.append(1 - dt.score(datax_test, datay_test))\n",
    "        #tdot = export_graphviz ( dt , feature_names = id2genre )\n",
    "        #pydotplus.graph_from_dot_data(tdot).write_pdf('tree_test1.pdf')\n",
    "    plt.figure()\n",
    "    plt.plot(depths, scores_app,label=\"train\")\n",
    "    plt.plot(depths, scores_test,label=\"test\")\n",
    "    plt.xlabel(\"profondeur\")\n",
    "    plt.ylabel(\"erreur\")\n",
    "    plt.legend()\n",
    "\n",
    "  \n",
    "    plt.show()\n",
    "\n",
    "def plot_error(scores_app, scores_test):\n",
    "    plt.figure()\n",
    "    plt.plot(depths, scores_app,label=\"train\")\n",
    "    plt.plot(depths, scores_test,label=\"test\")\n",
    "    plt.xlabel(\"profondeur\")\n",
    "    plt.ylabel(\"erreur\")\n",
    "    plt.legend()\n",
    "\n",
    "  \n",
    "    plt.show()"
   ]
  },
  {
   "cell_type": "code",
   "execution_count": 15,
   "id": "c5ed9c84",
   "metadata": {},
   "outputs": [],
   "source": [
    "depths = np.arange(1, 21, 2)"
   ]
  },
  {
   "cell_type": "markdown",
   "id": "37751fa7",
   "metadata": {},
   "source": [
    "#### Partage en (0.2, 0.8) : "
   ]
  },
  {
   "cell_type": "code",
   "execution_count": 16,
   "id": "c34c4f3e",
   "metadata": {},
   "outputs": [
    {
     "data": {
      "image/png": "[encoded data removed]",
      "text/plain": [
       "<Figure size 432x288 with 1 Axes>"
      ]
     },
     "metadata": {
      "needs_background": "light"
     },
     "output_type": "display_data"
    }
   ],
   "source": [
    "datax_app, datax_test, datay_app, datay_test = partage(datax, datay, 0.2)\n",
    "compute_error(depths)"
   ]
  },
  {
   "cell_type": "markdown",
   "id": "8bb6960c",
   "metadata": {},
   "source": [
    "#### Partage en (0.5, 0.5) : "
   ]
  },
  {
   "cell_type": "code",
   "execution_count": 17,
   "id": "f74f01ea",
   "metadata": {},
   "outputs": [
    {
     "data": {
      "image/png": "[encoded data removed]",
      "text/plain": [
       "<Figure size 432x288 with 1 Axes>"
      ]
     },
     "metadata": {
      "needs_background": "light"
     },
     "output_type": "display_data"
    }
   ],
   "source": [
    "datax_app, datax_test, datay_app, datay_test = partage(datax, datay, 0.5)\n",
    "compute_error(depths)"
   ]
  },
  {
   "cell_type": "markdown",
   "id": "4b642b4a",
   "metadata": {},
   "source": [
    "#### Partage en (0.8, 0.2) : "
   ]
  },
  {
   "cell_type": "code",
   "execution_count": 18,
   "id": "80b011aa",
   "metadata": {},
   "outputs": [
    {
     "data": {
      "image/png": "[encoded data removed]",
      "text/plain": [
       "<Figure size 432x288 with 1 Axes>"
      ]
     },
     "metadata": {
      "needs_background": "light"
     },
     "output_type": "display_data"
    }
   ],
   "source": [
    "datax_app, datax_test, datay_app, datay_test = partage(datax, datay, 0.8)\n",
    "compute_error(depths)"
   ]
  },
  {
   "cell_type": "markdown",
   "id": "d089bf26",
   "metadata": {},
   "source": [
    "## Validation croisée : sélection de modèle"
   ]
  },
  {
   "cell_type": "markdown",
   "id": "ff6680a9",
   "metadata": {},
   "source": [
    "Essayons de trouver la meilleur valeur pour la profondeur max d'un arbre de décision."
   ]
  },
  {
   "cell_type": "code",
   "execution_count": 19,
   "id": "610161c3",
   "metadata": {},
   "outputs": [],
   "source": [
    "# ------------------------\n",
    "def crossval(X, Y, n_iterations, iteration):\n",
    "    n = int(len(X)/n_iterations)\n",
    "    Xtest = X[iteration*(n): (iteration+1)*(n)]\n",
    "    Ytest = Y[iteration*n: (iteration+1)*n]\n",
    "\n",
    "    Xapp= np.concatenate((X[0:iteration*n], X[(iteration+1)*n:len(X)]))\n",
    "    Yapp = np.concatenate((Y[0:iteration*n], Y[(iteration+1)*n:len(Y)]))\n",
    "\n",
    "    return Xapp, Yapp, Xtest, Ytest\n",
    "\n",
    "# --------------------------\n",
    "def crossval_strat(X, Y, n_iterations, iteration):\n",
    "    Yuniques = np.unique(Y)\n",
    "    nbClasses = len(Yuniques)\n",
    "    Xs = []\n",
    "    Ys = []\n",
    "    Xapp = []\n",
    "    Yapp = []\n",
    "    Xtest = []\n",
    "    Ytest = []\n",
    "\n",
    "    for i in range(nbClasses):\n",
    "        x = np.array([ X[i] for i in np.where((Y==Yuniques[i]))[0]])\n",
    "        y = np.array([ Y[i] for i in np.where((Y==Yuniques[i]))[0]])\n",
    "\n",
    "        Xapptmp, Yapptmp, Xtesttmp, Ytesttmp = crossval(x, y, n_iterations, iteration)\n",
    "        Xapp.extend(Xapptmp)\n",
    "        Yapp.extend(Yapptmp)\n",
    "        Xtest.extend(Xtesttmp)\n",
    "        Ytest.extend(Ytesttmp)\n",
    "    return np.array(Xapp),np.array( Yapp), np.array(Xtest), np.array(Ytest)\n",
    "\n",
    "# --------------------------"
   ]
  },
  {
   "cell_type": "code",
   "execution_count": 20,
   "id": "d535b986",
   "metadata": {},
   "outputs": [
    {
     "name": "stdout",
     "output_type": "stream",
     "text": [
      "Maximum depth =  3\n",
      "\t0.004197 secondes d'apprentissage.\n",
      "\tPerformance :  0.7071038251366122 \n",
      "\n",
      "Maximum depth =  4\n",
      "\t0.004592 secondes d'apprentissage.\n",
      "\tPerformance :  0.716120218579235 \n",
      "\n",
      "Maximum depth =  5\n",
      "\t0.004594 secondes d'apprentissage.\n",
      "\tPerformance :  0.7169398907103826 \n",
      "\n",
      "Maximum depth =  6\n",
      "\t0.004476 secondes d'apprentissage.\n",
      "\tPerformance :  0.7191256830601093 \n",
      "\n",
      "Maximum depth =  7\n",
      "\t0.006868 secondes d'apprentissage.\n",
      "\tPerformance :  0.7125683060109289 \n",
      "\n",
      "Maximum depth =  8\n",
      "\t0.006764 secondes d'apprentissage.\n",
      "\tPerformance :  0.716120218579235 \n",
      "\n",
      "Maximum depth =  9\n",
      "\t0.007697 secondes d'apprentissage.\n",
      "\tPerformance :  0.7172131147540984 \n",
      "\n",
      "Maximum depth =  10\n",
      "\t0.007181 secondes d'apprentissage.\n",
      "\tPerformance :  0.7147540983606558 \n",
      "\n",
      "Maximum depth =  11\n",
      "\t0.008801 secondes d'apprentissage.\n",
      "\tPerformance :  0.7062841530054644 \n",
      "\n",
      "Maximum depth =  12\n",
      "\t0.01026 secondes d'apprentissage.\n",
      "\tPerformance :  0.7040983606557376 \n",
      "\n",
      "On obtient les meilleurs résultats avec une profondeur maximum de 6\n"
     ]
    }
   ],
   "source": [
    "#on va tester sur 10 profondeurs (de 3 à 13)\n",
    "depths = np.arange(3,13)\n",
    "all_perf = []\n",
    "for depth in depths:  \n",
    "    print(\"Maximum depth = \", depth)\n",
    "    perf_T = []\n",
    "    #perf_A = []\n",
    "    times = []\n",
    "    niter=10\n",
    "    for i in range(niter):\n",
    "\n",
    "        Xapp,Yapp,Xtest,Ytest = crossval_strat(datax_app, datay_app, niter, i)\n",
    "        dt = generate_dt(depth)\n",
    "        tic= time.time()\n",
    "        dt.fit(Xapp, Yapp)\n",
    "        toc= time.time()\n",
    "        times.append((toc -tic))\n",
    "        #print(\"Iteration\", i+1, f\": Trained en {(toc-tic):.4} secondes\")\n",
    "        perf_T.append(dt.score(Xtest, Ytest))\n",
    "        #perf_A.append(dt.score(Xapp, Yapp))\n",
    "\n",
    "    print(f\"\\t{sum(times)/len(times):.4} secondes d'apprentissage.\")\n",
    "    #print(\"Perf A (apprentissage): \", ev.analyse_perfs(perf_A))\n",
    "    print(\"\\tPerformance : \", np.mean(perf_T), \"\\n\")\n",
    "    all_perf.append(np.mean(perf_T))\n",
    "\n",
    "print(\"On obtient les meilleurs résultats avec une profondeur maximum de\", depths[np.argmax(all_perf)])\n",
    "\n",
    "\n"
   ]
  },
  {
   "cell_type": "code",
   "execution_count": 23,
   "id": "3054f28f",
   "metadata": {},
   "outputs": [
    {
     "name": "stdout",
     "output_type": "stream",
     "text": [
      "Performance en test avec prof = 6:  0.7113289760348583\n"
     ]
    }
   ],
   "source": [
    "depth = 6\n",
    "dt = generate_dt(depth)\n",
    "dt.fit(datax_app, datay_app)\n",
    "print(\"Performance en test avec prof = 6: \" ,dt.score(datax_test, datay_test))\n"
   ]
  },
  {
   "cell_type": "code",
   "execution_count": null,
   "id": "90254538",
   "metadata": {},
   "outputs": [],
   "source": []
  }
 ],
 "metadata": {
  "kernelspec": {
   "display_name": "Python 3 (ipykernel)",
   "language": "python",
   "name": "python3"
  },
  "language_info": {
   "codemirror_mode": {
    "name": "ipython",
    "version": 3
   },
   "file_extension": ".py",
   "mimetype": "text/x-python",
   "name": "python",
   "nbconvert_exporter": "python",
   "pygments_lexer": "ipython3",
   "version": "3.9.2"
  }
 },
 "nbformat": 4,
 "nbformat_minor": 5
}
