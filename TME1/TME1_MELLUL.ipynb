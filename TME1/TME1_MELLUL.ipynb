{
 "cells": [
  {
   "cell_type": "markdown",
   "metadata": {},
   "source": [
    "# TME 1 - Arbres de décision, sélection de modèles"
   ]
  },
  {
   "cell_type": "code",
   "execution_count": 1,
   "metadata": {},
   "outputs": [],
   "source": [
    "import numpy as np\n",
    "import collections as cl\n",
    "import pickle\n",
    "from sklearn . tree import export_graphviz\n",
    "from sklearn . tree import DecisionTreeClassifier as DTree\n",
    "import pydotplus\n",
    "from IPython.display import IFrame\n",
    "import matplotlib.pyplot as plt"
   ]
  },
  {
   "cell_type": "markdown",
   "metadata": {},
   "source": [
    "## L'essentiel sur les arbres de décision\n",
    "### Exercice 1 - Entropie\n",
    "Le but de cet exercice est d’implémenter les fonctions utiles au calcul du partitionnement optimal, i.e.\n",
    "les fonctions de calcul d’entropie. Ne passer pas trop de temps sur cette partie ! Passer si vous n’y\n",
    "arrivez pas. Il n’est pas nécessaire de coder ces fonctions pour la suite du TME."
   ]
  },
  {
   "cell_type": "markdown",
   "metadata": {},
   "source": [
    "#### 1.1  Soit un objet itérable vect (une liste ou un vecteur numpy par exemple) qui contient une liste de label. Coder une fonction entropie(vect) qui calcule l’entropie de ce vecteur."
   ]
  },
  {
   "cell_type": "code",
   "execution_count": 2,
   "metadata": {},
   "outputs": [],
   "source": [
    "def entropie(vect):\n",
    "    entrop = 0\n",
    "    hist = cl.Counter(vect)\n",
    "    n = len(vect)\n",
    "    for label in hist:\n",
    "        py = hist[label]/n\n",
    "        entrop += py*np.log(py)\n",
    "    \n",
    "    return -entrop"
   ]
  },
  {
   "cell_type": "markdown",
   "metadata": {},
   "source": [
    "#### 1.2  Coder la fonction entropie_cond(list_vect) qui à partir d’une liste de listes de labels (la partition des labels), calcule l’entropie conditionnelle de la partition."
   ]
  },
  {
   "cell_type": "code",
   "execution_count": 3,
   "metadata": {},
   "outputs": [],
   "source": [
    "def entropie_cond(list_vect):\n",
    "    n = 0\n",
    "    entrop = 0\n",
    "    for vect in list_vect:\n",
    "        pPi = len(vect)\n",
    "        entrop += pPi * entropie(vect)\n",
    "        n += len(vect)\n",
    "    return entrop/n"
   ]
  },
  {
   "cell_type": "markdown",
   "metadata": {},
   "source": [
    "#### 1.3  Calculer pour chaque attribut binaire l’entropie et l’entropie conditionnelle du vote selon la partition induite par l’attribut (les exemples dont la valeur de l’attribut est 1 vs les autres). Calculer également la différence entre l’entropie et l’entropie conditionnelle pour chaque attribut."
   ]
  },
  {
   "cell_type": "code",
   "execution_count": 4,
   "metadata": {},
   "outputs": [],
   "source": [
    "# data : tableau ( films , features ) , id2titles : dictionnaire id -> titre ,\n",
    "# fields : id feature -> nom\n",
    "[ data , id2titles , fields ]= pickle.load(open(\"imdb_extrait.pkl\",\"rb\"))\n",
    "# la derniere colonne est le vote\n",
    "datax = data [: ,:32]\n",
    "datay = np.array ([1 if x[33]>6.5 else -1 for x in data ])"
   ]
  },
  {
   "cell_type": "code",
   "execution_count": 5,
   "metadata": {},
   "outputs": [
    {
     "name": "stdout",
     "output_type": "stream",
     "text": [
      "(4587, 34)\n",
      "(4587, 32)\n",
      "(4587,)\n"
     ]
    }
   ],
   "source": [
    "print(data.shape)\n",
    "print(datax.shape)\n",
    "print(datay.shape)"
   ]
  },
  {
   "cell_type": "code",
   "execution_count": 6,
   "metadata": {
    "scrolled": false
   },
   "outputs": [
    {
     "name": "stdout",
     "output_type": "stream",
     "text": [
      "----------------------\n",
      "Sci-Fi\n",
      "entropie : 0.39161210183852996\n",
      "entropie conditionnelle : 0.6799402806092876\n",
      "différence : 0.2883281787707576\n",
      "----------------------\n",
      "Crime\n",
      "entropie : 0.5029905774584\n",
      "entropie conditionnelle : 0.6836092907830238\n",
      "différence : 0.18061871332462376\n",
      "----------------------\n",
      "Romance\n",
      "entropie : 0.5226986043605234\n",
      "entropie conditionnelle : 0.6840711988780971\n",
      "différence : 0.1613725945175737\n",
      "----------------------\n",
      "Animation\n",
      "entropie : 0.18257760424522337\n",
      "entropie conditionnelle : 0.6825230243876741\n",
      "différence : 0.4999454201424507\n",
      "----------------------\n",
      "Music\n",
      "entropie : 0.13351996077339376\n",
      "entropie conditionnelle : 0.6840615675797059\n",
      "différence : 0.5505416068063121\n",
      "----------------------\n",
      "Comedy\n",
      "entropie : 0.6576445592687681\n",
      "entropie conditionnelle : 0.6729819945731972\n",
      "différence : 0.015337435304429103\n",
      "----------------------\n",
      "War\n",
      "entropie : 0.1839105713426079\n",
      "entropie conditionnelle : 0.6777655712037746\n",
      "différence : 0.49385499986116665\n",
      "----------------------\n",
      "Horror\n",
      "entropie : 0.3706267359411901\n",
      "entropie conditionnelle : 0.6683431307224852\n",
      "différence : 0.2977163947812951\n",
      "----------------------\n",
      "Film-Noir\n",
      "entropie : 0.02804912130592066\n",
      "entropie conditionnelle : 0.6815939054062172\n",
      "différence : 0.6535447841002966\n",
      "----------------------\n",
      "Adult\n",
      "entropie : -0.0\n",
      "entropie conditionnelle : 0.6840731540145955\n",
      "différence : 0.6840731540145955\n",
      "----------------------\n",
      "News\n",
      "entropie : -0.0\n",
      "entropie conditionnelle : 0.6840731540145955\n",
      "différence : 0.6840731540145955\n",
      "----------------------\n",
      "Reality-TV\n",
      "entropie : -0.0\n",
      "entropie conditionnelle : 0.6840731540145955\n",
      "différence : 0.6840731540145955\n",
      "----------------------\n",
      "Thriller\n",
      "entropie : 0.6310937701018793\n",
      "entropie conditionnelle : 0.6761353305479341\n",
      "différence : 0.045041560446054785\n",
      "----------------------\n",
      "Western\n",
      "entropie : 0.09226413958416584\n",
      "entropie conditionnelle : 0.6826637243011309\n",
      "différence : 0.5903995847169651\n",
      "----------------------\n",
      "Mystery\n",
      "entropie : 0.34259123937486247\n",
      "entropie conditionnelle : 0.6839854832157543\n",
      "différence : 0.3413942438408918\n",
      "----------------------\n",
      "Short\n",
      "entropie : 0.005449340826354803\n",
      "entropie conditionnelle : 0.6837021955748285\n",
      "différence : 0.6782528547484736\n",
      "----------------------\n",
      "Talk-Show\n",
      "entropie : -0.0\n",
      "entropie conditionnelle : 0.6840731540145955\n",
      "différence : 0.6840731540145955\n",
      "----------------------\n",
      "Drama\n",
      "entropie : 0.6930901230329778\n",
      "entropie conditionnelle : 0.6420254354524771\n",
      "différence : 0.051064687580500645\n",
      "----------------------\n",
      "Action\n",
      "entropie : 0.5616755451806462\n",
      "entropie conditionnelle : 0.6726791714737774\n",
      "différence : 0.11100362629313121\n",
      "----------------------\n",
      "Documentary\n",
      "entropie : 0.040506176945848064\n",
      "entropie conditionnelle : 0.6832027129781834\n",
      "différence : 0.6426965360323353\n",
      "----------------------\n",
      "Musical\n",
      "entropie : 0.12270594846913979\n",
      "entropie conditionnelle : 0.6823680066637311\n",
      "différence : 0.5596620581945912\n",
      "----------------------\n",
      "History\n",
      "entropie : 0.15848948292932769\n",
      "entropie conditionnelle : 0.6746200639502071\n",
      "différence : 0.5161305810208794\n",
      "----------------------\n",
      "Family\n",
      "entropie : 0.3121017959031388\n",
      "entropie conditionnelle : 0.6827689605873292\n",
      "différence : 0.37066716468419036\n",
      "----------------------\n",
      "Adventure\n",
      "entropie : 0.479345020202369\n",
      "entropie conditionnelle : 0.6838846710199322\n",
      "différence : 0.2045396508175632\n",
      "----------------------\n",
      "Fantasy\n",
      "entropie : 0.3566182954212056\n",
      "entropie conditionnelle : 0.6824910169613548\n",
      "différence : 0.32587272154014923\n",
      "----------------------\n",
      "Game-Show\n",
      "entropie : -0.0\n",
      "entropie conditionnelle : 0.6840731540145955\n",
      "différence : 0.6840731540145955\n",
      "----------------------\n",
      "Sport\n",
      "entropie : 0.1365487080337603\n",
      "entropie conditionnelle : 0.6840720363731843\n",
      "différence : 0.547523328339424\n",
      "----------------------\n",
      "Biography\n",
      "entropie : 0.2121847658663779\n",
      "entropie conditionnelle : 0.6694583157569577\n",
      "différence : 0.4572735498905798\n"
     ]
    }
   ],
   "source": [
    "ent = np.zeros(28)\n",
    "ent_cond = np.zeros(28)\n",
    "diff_ent = np.zeros(28)\n",
    "for i in range(28):\n",
    "    vecti = datax[:,i]  #i-ème feature\n",
    "\n",
    "    #calculs\n",
    "    ent[i] = entropie(vecti)\n",
    "    list_vecti = [datay[(vecti==1)],datay[vecti!=1]]\n",
    "    ent_cond[i] = entropie_cond(list_vecti)\n",
    "    diff_ent[i] = np.abs(ent[i] - ent_cond[i])\n",
    "    \n",
    "    #affichage\n",
    "    print(\"----------------------\")\n",
    "    print(fields[i])\n",
    "    print(\"entropie :\", ent[i])\n",
    "    print(\"entropie conditionnelle :\",ent_cond[i])\n",
    "    print(\"différence :\",diff_ent[i])\n"
   ]
  },
  {
   "cell_type": "markdown",
   "metadata": {},
   "source": [
    "##### A quoi correspond une valeur de 0 ? une valeur de 1 ?"
   ]
  },
  {
   "cell_type": "markdown",
   "metadata": {},
   "source": [
    "##### Quel est le meilleur attribut pour la première partition ?"
   ]
  },
  {
   "cell_type": "code",
   "execution_count": 7,
   "metadata": {},
   "outputs": [
    {
     "name": "stdout",
     "output_type": "stream",
     "text": [
      "Drama\n",
      "Drama\n"
     ]
    }
   ],
   "source": [
    "print(fields[np.argmax(ent)])\n",
    "print(fields[np.argmin(ent_cond)])"
   ]
  },
  {
   "cell_type": "markdown",
   "metadata": {},
   "source": [
    "## Quelques expériences préliminaires"
   ]
  },
  {
   "cell_type": "code",
   "execution_count": 26,
   "metadata": {},
   "outputs": [
    {
     "name": "stdout",
     "output_type": "stream",
     "text": [
      "tree53.pdf\n"
     ]
    }
   ],
   "source": [
    "print('tree'+str(53)+'.pdf')"
   ]
  },
  {
   "cell_type": "markdown",
   "metadata": {},
   "source": [
    "#### 1.4  Sur la base de données imdb, apprendre quelques arbres de profondeurs différentes. Visualiser-les."
   ]
  },
  {
   "cell_type": "code",
   "execution_count": 38,
   "metadata": {},
   "outputs": [
    {
     "name": "stdout",
     "output_type": "stream",
     "text": [
      "Profondeur maximum =  3 :\n",
      "   Score =  0.7183344233703945 \n",
      "\n",
      "Profondeur maximum =  5 :\n",
      "   Score =  0.7183344233703945 \n",
      "\n",
      "Profondeur maximum =  7 :\n",
      "   Score =  0.7183344233703945 \n",
      "\n",
      "Profondeur maximum =  9 :\n",
      "   Score =  0.7183344233703945 \n",
      "\n",
      "Profondeur maximum =  11 :\n",
      "   Score =  0.7183344233703945 \n",
      "\n",
      "Profondeur maximum =  13 :\n",
      "   Score =  0.7183344233703945 \n",
      "\n",
      "Profondeur maximum =  15 :\n",
      "   Score =  0.7183344233703945 \n",
      "\n"
     ]
    }
   ],
   "source": [
    "for taille_max in range(3,16, 2):\n",
    "    print('Profondeur maximum = ',taille_max,':')\n",
    "    id2genre = [ x[1] for x in sorted (fields.items())[:-2]]\n",
    "    dt = DTree ()\n",
    "    dt.max_depth = 3 # on fixe la taille max de l ’ arbre a 5\n",
    "    dt.min_samples_split = 2 # nombre minimum d ’ exemples pour spliter un noeud\n",
    "    dt.fit(datax, datay)\n",
    "    dt.predict(datax[:5 ,:])\n",
    "    print('   Score = ',dt.score(datax, datay), '\\n')\n",
    "    tdot = export_graphviz ( dt , feature_names = id2genre )\n",
    "    pydotplus.graph_from_dot_data(tdot).write_pdf('tree'+str(taille_max)+'.pdf')\n",
    "    IFrame(\"./tree\"+str(taille_max)+\".pdf\", width=600, height=300)"
   ]
  },
  {
   "cell_type": "code",
   "execution_count": 35,
   "metadata": {},
   "outputs": [
    {
     "data": {
      "text/html": [
       "\n",
       "        <iframe\n",
       "            width=\"600\"\n",
       "            height=\"300\"\n",
       "            src=\"./tree3.pdf\"\n",
       "            frameborder=\"0\"\n",
       "            allowfullscreen\n",
       "        ></iframe>\n",
       "        "
      ],
      "text/plain": [
       "<IPython.lib.display.IFrame at 0x7fd417ed9810>"
      ]
     },
     "execution_count": 35,
     "metadata": {},
     "output_type": "execute_result"
    }
   ],
   "source": [
    "IFrame(\"./tree3.pdf\", width=600, height=300)"
   ]
  },
  {
   "cell_type": "markdown",
   "metadata": {},
   "source": [
    "##### - Taille max = 5"
   ]
  },
  {
   "cell_type": "code",
   "execution_count": 10,
   "metadata": {},
   "outputs": [
    {
     "name": "stdout",
     "output_type": "stream",
     "text": [
      "0.736647045999564\n"
     ]
    },
    {
     "data": {
      "text/plain": [
       "True"
      ]
     },
     "execution_count": 10,
     "metadata": {},
     "output_type": "execute_result"
    }
   ],
   "source": [
    "id2genre = [ x[1] for x in sorted (fields.items())[:-2]]\n",
    "dt = DTree ()\n",
    "dt.max_depth = 5 # on fixe la taille max de l ’ arbre a 5\n",
    "dt.min_samples_split = 2 # nombre minimum d ’ exemples pour spliter un noeud\n",
    "dt.fit(datax, datay)\n",
    "dt.predict(datax[:5 ,:])\n",
    "print(dt.score(datax, datay))\n",
    "tdot = export_graphviz ( dt , feature_names = id2genre )\n",
    "pydotplus.graph_from_dot_data(tdot).write_pdf('tree5.pdf')"
   ]
  },
  {
   "cell_type": "code",
   "execution_count": 11,
   "metadata": {},
   "outputs": [
    {
     "data": {
      "text/html": [
       "\n",
       "        <iframe\n",
       "            width=\"600\"\n",
       "            height=\"300\"\n",
       "            src=\"./tree5.pdf\"\n",
       "            frameborder=\"0\"\n",
       "            allowfullscreen\n",
       "        ></iframe>\n",
       "        "
      ],
      "text/plain": [
       "<IPython.lib.display.IFrame at 0x7fd416ee1d10>"
      ]
     },
     "execution_count": 11,
     "metadata": {},
     "output_type": "execute_result"
    }
   ],
   "source": [
    "IFrame(\"./tree5.pdf\", width=600, height=300)"
   ]
  },
  {
   "cell_type": "markdown",
   "metadata": {},
   "source": [
    "##### Taille max = 7"
   ]
  },
  {
   "cell_type": "code",
   "execution_count": 12,
   "metadata": {},
   "outputs": [
    {
     "name": "stdout",
     "output_type": "stream",
     "text": [
      "0.775888380204927\n"
     ]
    },
    {
     "data": {
      "text/plain": [
       "True"
      ]
     },
     "execution_count": 12,
     "metadata": {},
     "output_type": "execute_result"
    }
   ],
   "source": [
    "id2genre = [ x[1] for x in sorted (fields.items())[:-2]]\n",
    "dt = DTree ()\n",
    "dt.max_depth = 7 # on fixe la taille max de l ’ arbre a 5\n",
    "dt.min_samples_split = 2 # nombre minimum d ’ exemples pour spliter un noeud\n",
    "dt.fit(datax, datay)\n",
    "dt.predict(datax[:5 ,:])\n",
    "print(dt.score(datax, datay))\n",
    "tdot = export_graphviz ( dt , feature_names = id2genre )\n",
    "pydotplus.graph_from_dot_data(tdot).write_pdf('tree7.pdf')"
   ]
  },
  {
   "cell_type": "code",
   "execution_count": 37,
   "metadata": {},
   "outputs": [
    {
     "ename": "NameError",
     "evalue": "name 'IPython' is not defined",
     "output_type": "error",
     "traceback": [
      "\u001b[0;31m---------------------------------------------------------------------------\u001b[0m",
      "\u001b[0;31mNameError\u001b[0m                                 Traceback (most recent call last)",
      "\u001b[0;32m<ipython-input-37-30aaf88f252c>\u001b[0m in \u001b[0;36m<module>\u001b[0;34m\u001b[0m\n\u001b[0;32m----> 1\u001b[0;31m \u001b[0mIPython\u001b[0m\u001b[0;34m.\u001b[0m\u001b[0mdisplay\u001b[0m\u001b[0;34m(\u001b[0m\u001b[0mIFrame\u001b[0m\u001b[0;34m(\u001b[0m\u001b[0;34m\"./tree7.pdf\"\u001b[0m\u001b[0;34m,\u001b[0m \u001b[0mwidth\u001b[0m\u001b[0;34m=\u001b[0m\u001b[0;36m600\u001b[0m\u001b[0;34m,\u001b[0m \u001b[0mheight\u001b[0m\u001b[0;34m=\u001b[0m\u001b[0;36m300\u001b[0m\u001b[0;34m)\u001b[0m\u001b[0;34m)\u001b[0m\u001b[0;34m\u001b[0m\u001b[0;34m\u001b[0m\u001b[0m\n\u001b[0m",
      "\u001b[0;31mNameError\u001b[0m: name 'IPython' is not defined"
     ]
    }
   ],
   "source": [
    "IPython.display(IFrame(\"./tree7.pdf\", width=600, height=300))"
   ]
  },
  {
   "cell_type": "markdown",
   "metadata": {},
   "source": [
    "##### Taille max = 10"
   ]
  },
  {
   "cell_type": "code",
   "execution_count": 14,
   "metadata": {},
   "outputs": [
    {
     "name": "stdout",
     "output_type": "stream",
     "text": [
      "0.8495748855461086\n"
     ]
    },
    {
     "data": {
      "text/plain": [
       "True"
      ]
     },
     "execution_count": 14,
     "metadata": {},
     "output_type": "execute_result"
    }
   ],
   "source": [
    "id2genre = [ x[1] for x in sorted (fields.items())[:-2]]\n",
    "dt = DTree ()\n",
    "dt.max_depth = 10 # on fixe la taille max de l ’ arbre a 5\n",
    "dt.min_samples_split = 2 # nombre minimum d ’ exemples pour spliter un noeud\n",
    "dt.fit(datax, datay)\n",
    "dt.predict(datax[:5 ,:])\n",
    "print(dt.score(datax, datay))\n",
    "tdot = export_graphviz ( dt , feature_names = id2genre )\n",
    "pydotplus.graph_from_dot_data(tdot).write_pdf('tree10.pdf')"
   ]
  },
  {
   "cell_type": "code",
   "execution_count": 15,
   "metadata": {
    "scrolled": true
   },
   "outputs": [
    {
     "data": {
      "text/html": [
       "\n",
       "        <iframe\n",
       "            width=\"600\"\n",
       "            height=\"300\"\n",
       "            src=\"./tree10.pdf\"\n",
       "            frameborder=\"0\"\n",
       "            allowfullscreen\n",
       "        ></iframe>\n",
       "        "
      ],
      "text/plain": [
       "<IPython.lib.display.IFrame at 0x7fd41bb1f110>"
      ]
     },
     "execution_count": 15,
     "metadata": {},
     "output_type": "execute_result"
    }
   ],
   "source": [
    "IFrame(\"./tree10.pdf\", width=600, height=300)"
   ]
  },
  {
   "cell_type": "markdown",
   "metadata": {},
   "source": [
    "##### Taille max = 20"
   ]
  },
  {
   "cell_type": "code",
   "execution_count": 16,
   "metadata": {},
   "outputs": [
    {
     "name": "stdout",
     "output_type": "stream",
     "text": [
      "0.8491388707216045\n"
     ]
    },
    {
     "data": {
      "text/plain": [
       "True"
      ]
     },
     "execution_count": 16,
     "metadata": {},
     "output_type": "execute_result"
    }
   ],
   "source": [
    "id2genre = [ x[1] for x in sorted (fields.items())[:-2]]\n",
    "dt = DTree ()\n",
    "dt.max_depth = 10 # on fixe la taille max de l ’ arbre a 5\n",
    "dt.min_samples_split = 2 # nombre minimum d ’ exemples pour spliter un noeud\n",
    "dt.fit(datax, datay)\n",
    "dt.predict(datax[:5 ,:])\n",
    "print(dt.score(datax, datay))\n",
    "tdot = export_graphviz ( dt , feature_names = id2genre )\n",
    "pydotplus.graph_from_dot_data(tdot).write_pdf('tree20.pdf')"
   ]
  },
  {
   "cell_type": "code",
   "execution_count": 17,
   "metadata": {
    "scrolled": true
   },
   "outputs": [
    {
     "data": {
      "text/html": [
       "\n",
       "        <iframe\n",
       "            width=\"600\"\n",
       "            height=\"300\"\n",
       "            src=\"./tree20.pdf\"\n",
       "            frameborder=\"0\"\n",
       "            allowfullscreen\n",
       "        ></iframe>\n",
       "        "
      ],
      "text/plain": [
       "<IPython.lib.display.IFrame at 0x7fd412b79890>"
      ]
     },
     "execution_count": 17,
     "metadata": {},
     "output_type": "execute_result"
    }
   ],
   "source": [
    "IFrame(\"./tree20.pdf\", width=600, height=300)"
   ]
  },
  {
   "cell_type": "markdown",
   "metadata": {},
   "source": [
    "##### Que remarquez-vous quant au nombre d’exemples séparés à chaque niveau en fonction de la profondeur ?"
   ]
  },
  {
   "cell_type": "markdown",
   "metadata": {},
   "source": [
    "On remarque que plus on est en profondeur dans l'arbre, moins d'exemples sont separés. C'est tout à fait logique!"
   ]
  },
  {
   "cell_type": "markdown",
   "metadata": {},
   "source": [
    "##### 1.5 - Calculer les scores de bonne classification. Comment ils évoluent en fonction de la profondeur ? Est-ce normal ?\n",
    "Les scores s'améliorent avec la profondeur. C'est logique car il y a plus de séparations de cas. Il faudra néanmoins faire attention au sur apprentissage."
   ]
  },
  {
   "cell_type": "markdown",
   "metadata": {},
   "source": [
    "##### 1.6 - Ces scores sont-ils un indicateur fiable du comportement de l’algorithme ? Comment obtenir un indicateur plus fiable ?"
   ]
  },
  {
   "cell_type": "markdown",
   "metadata": {},
   "source": [
    "## Sur et sous-apprentissage"
   ]
  },
  {
   "cell_type": "markdown",
   "metadata": {},
   "source": [
    "##### 1.7 - Pour différents partitionnement, par exemple des partages en (0.2, 0.8), (0.5, 0.5), (0.8, 0.2)), tracer les courbes de l’erreur en apprentissage et de l’erreur en test en fonction de la profondeur du modèle."
   ]
  },
  {
   "cell_type": "markdown",
   "metadata": {},
   "source": [
    "#### Partage en (0.2, 0.8) : "
   ]
  },
  {
   "cell_type": "code",
   "execution_count": 18,
   "metadata": {},
   "outputs": [],
   "source": [
    "datax_app = datax[:int(4587*0.2)]\n",
    "datax_test = datax[int(4587*0.2):]\n",
    "datay_app = datay[:int(4587*0.2)]\n",
    "datay_test = datay[int(4587*0.2):]"
   ]
  },
  {
   "cell_type": "code",
   "execution_count": 19,
   "metadata": {
    "scrolled": true
   },
   "outputs": [
    {
     "name": "stdout",
     "output_type": "stream",
     "text": [
      "(917, 32)\n",
      "(3670, 32)\n",
      "(917,)\n",
      "(3670,)\n"
     ]
    }
   ],
   "source": [
    "print(datax_app.shape)\n",
    "print(datax_test.shape)\n",
    "print(datay_app.shape)\n",
    "print(datay_test.shape)"
   ]
  },
  {
   "cell_type": "code",
   "execution_count": 20,
   "metadata": {},
   "outputs": [
    {
     "data": {
      "image/png": "[encoded data removed]",
      "text/plain": [
       "<Figure size 432x288 with 1 Axes>"
      ]
     },
     "metadata": {
      "needs_background": "light"
     },
     "output_type": "display_data"
    }
   ],
   "source": [
    "depths = np.arange(1, 21, 2)\n",
    "scores_app = [] \n",
    "scores_test = [] \n",
    "for max_depth in depths :\n",
    "    id2genre = [ x[1] for x in sorted (fields.items())[:-2]]\n",
    "    dt = DTree ()\n",
    "    dt.max_depth = max_depth # on fixe la taille max de l ’ arbre\n",
    "    dt.min_samples_split = 2 # nombre minimum d ’ exemples pour spliter un noeud\n",
    "    dt.fit(datax_app, datay_app)\n",
    "    scores_app.append(1 - dt.score(datax_app, datay_app))\n",
    "    scores_test.append(1 - dt.score(datax_test, datay_test))\n",
    "    #tdot = export_graphviz ( dt , feature_names = id2genre )\n",
    "    #pydotplus.graph_from_dot_data(tdot).write_pdf('tree_test1.pdf')\n",
    "plt.figure()\n",
    "plt.plot(depths, scores_app,label=\"train\")\n",
    "plt.plot(depths, scores_test,label=\"test\")\n",
    "plt.xlabel(\"profondeur\")\n",
    "plt.ylabel(\"erreur\")\n",
    "plt.legend()\n",
    "\n",
    "  \n",
    "plt.show()\n"
   ]
  },
  {
   "cell_type": "code",
   "execution_count": null,
   "metadata": {},
   "outputs": [],
   "source": []
  },
  {
   "cell_type": "markdown",
   "metadata": {},
   "source": [
    "#### Partage en (0.5, 0.5) : "
   ]
  },
  {
   "cell_type": "code",
   "execution_count": 21,
   "metadata": {},
   "outputs": [],
   "source": [
    "datax_app = datax[:int(4587*0.5)]\n",
    "datax_test = datax[int(4587*0.5):]\n",
    "datay_app = datay[:int(4587*0.5)]\n",
    "datay_test = datay[int(4587*0.5):]"
   ]
  },
  {
   "cell_type": "code",
   "execution_count": 22,
   "metadata": {},
   "outputs": [
    {
     "data": {
      "image/png": "[encoded data removed]",
      "text/plain": [
       "<Figure size 432x288 with 1 Axes>"
      ]
     },
     "metadata": {
      "needs_background": "light"
     },
     "output_type": "display_data"
    }
   ],
   "source": [
    "scores_app = [] \n",
    "scores_test = [] \n",
    "for max_depth in depths :\n",
    "    id2genre = [ x[1] for x in sorted (fields.items())[:-2]]\n",
    "    dt = DTree ()\n",
    "    dt.max_depth = max_depth # on fixe la taille max de l ’ arbre\n",
    "    dt.min_samples_split = 2 # nombre minimum d ’ exemples pour spliter un noeud\n",
    "    dt.fit(datax_app, datay_app)\n",
    "    scores_app.append(1 - dt.score(datax_app, datay_app))\n",
    "    scores_test.append(1 - dt.score(datax_test, datay_test))\n",
    "    #tdot = export_graphviz ( dt , feature_names = id2genre )\n",
    "    #pydotplus.graph_from_dot_data(tdot).write_pdf('tree_test1.pdf')\n",
    "plt.figure()\n",
    "plt.plot(depths, scores_app,label=\"train\")\n",
    "plt.plot(depths, scores_test,label=\"test\")\n",
    "plt.xlabel(\"profondeur\")\n",
    "plt.ylabel(\"erreur\")\n",
    "plt.legend()\n",
    "\n",
    "  \n",
    "plt.show()\n"
   ]
  },
  {
   "cell_type": "code",
   "execution_count": null,
   "metadata": {},
   "outputs": [],
   "source": []
  },
  {
   "cell_type": "markdown",
   "metadata": {},
   "source": [
    "#### Partage en (0.8, 0.2) : "
   ]
  },
  {
   "cell_type": "code",
   "execution_count": 23,
   "metadata": {},
   "outputs": [],
   "source": [
    "datax_app = datax[:int(4587*0.8)]\n",
    "datax_test = datax[int(4587*0.8):]\n",
    "datay_app = datay[:int(4587*0.8)]\n",
    "datay_test = datay[int(4587*0.8):]"
   ]
  },
  {
   "cell_type": "code",
   "execution_count": 24,
   "metadata": {},
   "outputs": [
    {
     "data": {
      "image/png": "[encoded data removed]",
      "text/plain": [
       "<Figure size 432x288 with 1 Axes>"
      ]
     },
     "metadata": {
      "needs_background": "light"
     },
     "output_type": "display_data"
    }
   ],
   "source": [
    "scores_app = [] \n",
    "scores_test = [] \n",
    "for max_depth in depths :\n",
    "    id2genre = [ x[1] for x in sorted (fields.items())[:-2]]\n",
    "    dt = DTree ()\n",
    "    dt.max_depth = max_depth # on fixe la taille max de l ’ arbre\n",
    "    dt.min_samples_split = 2 # nombre minimum d ’ exemples pour spliter un noeud\n",
    "    dt.fit(datax_app, datay_app)\n",
    "    scores_app.append(1 - dt.score(datax_app, datay_app))\n",
    "    scores_test.append(1 - dt.score(datax_test, datay_test))\n",
    "    #tdot = export_graphviz ( dt , feature_names = id2genre )\n",
    "    #pydotplus.graph_from_dot_data(tdot).write_pdf('tree_test1.pdf')\n",
    "plt.figure()\n",
    "plt.plot(depths, scores_app,label=\"train\")\n",
    "plt.plot(depths, scores_test,label=\"test\")\n",
    "plt.xlabel(\"profondeur\")\n",
    "plt.ylabel(\"erreur\")\n",
    "plt.legend()\n",
    "\n",
    "  \n",
    "plt.show()\n"
   ]
  },
  {
   "cell_type": "markdown",
   "metadata": {},
   "source": [
    "## Validation croisée : sélection de modèle"
   ]
  },
  {
   "cell_type": "code",
   "execution_count": null,
   "metadata": {},
   "outputs": [],
   "source": []
  }
 ],
 "metadata": {
  "kernelspec": {
   "display_name": "Python 3",
   "language": "python",
   "name": "python3"
  },
  "language_info": {
   "codemirror_mode": {
    "name": "ipython",
    "version": 3
   },
   "file_extension": ".py",
   "mimetype": "text/x-python",
   "name": "python",
   "nbconvert_exporter": "python",
   "pygments_lexer": "ipython3",
   "version": "3.7.4"
  }
 },
 "nbformat": 4,
 "nbformat_minor": 5
}
