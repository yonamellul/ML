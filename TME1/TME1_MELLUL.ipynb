{
 "cells": [
  {
   "cell_type": "markdown",
   "metadata": {},
   "source": [
    "# TME 1 - Arbres de décision, sélection de modèles"
   ]
  },
  {
   "cell_type": "markdown",
   "metadata": {},
   "source": [
    "Yona MELLUL - 3800646"
   ]
  },
  {
   "cell_type": "code",
   "execution_count": 1,
   "metadata": {},
   "outputs": [],
   "source": [
    "import numpy as np\n",
    "import collections as cl\n",
    "import pickle\n",
    "from sklearn . tree import export_graphviz\n",
    "from sklearn . tree import DecisionTreeClassifier as DTree\n",
    "import pydotplus\n",
    "from IPython.display import IFrame\n",
    "from IPython.display import Image\n",
    "from sklearn.model_selection import train_test_split\n",
    "from sklearn import datasets\n",
    "from sklearn import svm\n",
    "import matplotlib.pyplot as plt\n",
    "import time"
   ]
  },
  {
   "cell_type": "markdown",
   "metadata": {},
   "source": [
    "## L'essentiel sur les arbres de décision\n",
    "### Exercice 1 - Entropie\n",
    "Le but de cet exercice est d’implémenter les fonctions utiles au calcul du partitionnement optimal, i.e.\n",
    "les fonctions de calcul d’entropie. Ne passer pas trop de temps sur cette partie ! Passer si vous n’y\n",
    "arrivez pas. Il n’est pas nécessaire de coder ces fonctions pour la suite du TME."
   ]
  },
  {
   "cell_type": "markdown",
   "metadata": {},
   "source": [
    "#### 1.1  Soit un objet itérable vect (une liste ou un vecteur numpy par exemple) qui contient une liste de label. Coder une fonction entropie(vect) qui calcule l’entropie de ce vecteur."
   ]
  },
  {
   "cell_type": "code",
   "execution_count": 2,
   "metadata": {},
   "outputs": [],
   "source": [
    "def entropie(vect):\n",
    "    entrop = 0\n",
    "    hist = cl.Counter(vect)\n",
    "    n = len(vect)\n",
    "    for label in hist:\n",
    "        py = hist[label]/n\n",
    "        entrop += py*np.log(py)\n",
    "    \n",
    "    return -entrop"
   ]
  },
  {
   "cell_type": "markdown",
   "metadata": {},
   "source": [
    "#### 1.2  Coder la fonction entropie_cond(list_vect) qui à partir d’une liste de listes de labels (la partition des labels), calcule l’entropie conditionnelle de la partition."
   ]
  },
  {
   "cell_type": "code",
   "execution_count": 3,
   "metadata": {},
   "outputs": [],
   "source": [
    "def entropie_cond(list_vect):\n",
    "    n = 0\n",
    "    entrop = 0\n",
    "    for vect in list_vect:\n",
    "        pPi = len(vect)\n",
    "        entrop += pPi * entropie(vect)\n",
    "        n += len(vect)\n",
    "    return entrop/n"
   ]
  },
  {
   "cell_type": "markdown",
   "metadata": {},
   "source": [
    "#### 1.3  Calculer pour chaque attribut binaire l’entropie et l’entropie conditionnelle du vote selon la partition induite par l’attribut (les exemples dont la valeur de l’attribut est 1 vs les autres). Calculer également la différence entre l’entropie et l’entropie conditionnelle pour chaque attribut."
   ]
  },
  {
   "cell_type": "code",
   "execution_count": 4,
   "metadata": {},
   "outputs": [],
   "source": [
    "# data : tableau ( films , features ) , id2titles : dictionnaire id -> titre ,\n",
    "# fields : id feature -> nom\n",
    "[ data , id2titles , fields ]= pickle.load(open(\"./data/imdb_extrait.pkl\",\"rb\"))\n",
    "# la derniere colonne est le vote\n",
    "datax = data [: ,:32]\n",
    "datay = np.array ([1 if x[33]>6.5 else -1 for x in data ])\n",
    "id2genre = [ x[1] for x in sorted (fields.items())[:-2]]"
   ]
  },
  {
   "cell_type": "code",
   "execution_count": 5,
   "metadata": {
    "scrolled": false
   },
   "outputs": [
    {
     "name": "stdout",
     "output_type": "stream",
     "text": [
      "----------------------\n",
      "Sci-Fi\n",
      "entropie : 0.39161210183852996\n",
      "entropie conditionnelle : 0.6799402806092876\n",
      "différence : 0.2883281787707576\n",
      "----------------------\n",
      "Crime\n",
      "entropie : 0.5029905774584\n",
      "entropie conditionnelle : 0.6836092907830238\n",
      "différence : 0.18061871332462376\n",
      "----------------------\n",
      "Romance\n",
      "entropie : 0.5226986043605234\n",
      "entropie conditionnelle : 0.6840711988780971\n",
      "différence : 0.1613725945175737\n",
      "----------------------\n",
      "Animation\n",
      "entropie : 0.18257760424522337\n",
      "entropie conditionnelle : 0.6825230243876741\n",
      "différence : 0.4999454201424507\n",
      "----------------------\n",
      "Music\n",
      "entropie : 0.13351996077339376\n",
      "entropie conditionnelle : 0.6840615675797059\n",
      "différence : 0.5505416068063121\n",
      "----------------------\n",
      "Comedy\n",
      "entropie : 0.6576445592687681\n",
      "entropie conditionnelle : 0.6729819945731972\n",
      "différence : 0.015337435304429103\n",
      "----------------------\n",
      "War\n",
      "entropie : 0.1839105713426079\n",
      "entropie conditionnelle : 0.6777655712037746\n",
      "différence : 0.49385499986116665\n",
      "----------------------\n",
      "Horror\n",
      "entropie : 0.3706267359411901\n",
      "entropie conditionnelle : 0.6683431307224852\n",
      "différence : 0.2977163947812951\n",
      "----------------------\n",
      "Film-Noir\n",
      "entropie : 0.02804912130592066\n",
      "entropie conditionnelle : 0.6815939054062172\n",
      "différence : 0.6535447841002966\n",
      "----------------------\n",
      "Adult\n",
      "entropie : -0.0\n",
      "entropie conditionnelle : 0.6840731540145955\n",
      "différence : 0.6840731540145955\n",
      "----------------------\n",
      "News\n",
      "entropie : -0.0\n",
      "entropie conditionnelle : 0.6840731540145955\n",
      "différence : 0.6840731540145955\n",
      "----------------------\n",
      "Reality-TV\n",
      "entropie : -0.0\n",
      "entropie conditionnelle : 0.6840731540145955\n",
      "différence : 0.6840731540145955\n",
      "----------------------\n",
      "Thriller\n",
      "entropie : 0.6310937701018793\n",
      "entropie conditionnelle : 0.6761353305479341\n",
      "différence : 0.045041560446054785\n",
      "----------------------\n",
      "Western\n",
      "entropie : 0.09226413958416584\n",
      "entropie conditionnelle : 0.6826637243011309\n",
      "différence : 0.5903995847169651\n",
      "----------------------\n",
      "Mystery\n",
      "entropie : 0.34259123937486247\n",
      "entropie conditionnelle : 0.6839854832157543\n",
      "différence : 0.3413942438408918\n",
      "----------------------\n",
      "Short\n",
      "entropie : 0.005449340826354803\n",
      "entropie conditionnelle : 0.6837021955748285\n",
      "différence : 0.6782528547484736\n",
      "----------------------\n",
      "Talk-Show\n",
      "entropie : -0.0\n",
      "entropie conditionnelle : 0.6840731540145955\n",
      "différence : 0.6840731540145955\n",
      "----------------------\n",
      "Drama\n",
      "entropie : 0.6930901230329778\n",
      "entropie conditionnelle : 0.6420254354524771\n",
      "différence : 0.051064687580500645\n",
      "----------------------\n",
      "Action\n",
      "entropie : 0.5616755451806462\n",
      "entropie conditionnelle : 0.6726791714737774\n",
      "différence : 0.11100362629313121\n",
      "----------------------\n",
      "Documentary\n",
      "entropie : 0.040506176945848064\n",
      "entropie conditionnelle : 0.6832027129781834\n",
      "différence : 0.6426965360323353\n",
      "----------------------\n",
      "Musical\n",
      "entropie : 0.12270594846913979\n",
      "entropie conditionnelle : 0.6823680066637311\n",
      "différence : 0.5596620581945912\n",
      "----------------------\n",
      "History\n",
      "entropie : 0.15848948292932769\n",
      "entropie conditionnelle : 0.6746200639502071\n",
      "différence : 0.5161305810208794\n",
      "----------------------\n",
      "Family\n",
      "entropie : 0.3121017959031388\n",
      "entropie conditionnelle : 0.6827689605873292\n",
      "différence : 0.37066716468419036\n",
      "----------------------\n",
      "Adventure\n",
      "entropie : 0.479345020202369\n",
      "entropie conditionnelle : 0.6838846710199322\n",
      "différence : 0.2045396508175632\n",
      "----------------------\n",
      "Fantasy\n",
      "entropie : 0.3566182954212056\n",
      "entropie conditionnelle : 0.6824910169613548\n",
      "différence : 0.32587272154014923\n",
      "----------------------\n",
      "Game-Show\n",
      "entropie : -0.0\n",
      "entropie conditionnelle : 0.6840731540145955\n",
      "différence : 0.6840731540145955\n",
      "----------------------\n",
      "Sport\n",
      "entropie : 0.1365487080337603\n",
      "entropie conditionnelle : 0.6840720363731843\n",
      "différence : 0.547523328339424\n",
      "----------------------\n",
      "Biography\n",
      "entropie : 0.2121847658663779\n",
      "entropie conditionnelle : 0.6694583157569577\n",
      "différence : 0.4572735498905798\n"
     ]
    }
   ],
   "source": [
    "ent = np.zeros(28)\n",
    "ent_cond = np.zeros(28)\n",
    "diff_ent = np.zeros(28)\n",
    "for i in range(28):\n",
    "    vecti = datax[:,i]  #i-ème feature\n",
    "\n",
    "    #calculs\n",
    "    ent[i] = entropie(vecti)\n",
    "    list_vecti = [datay[(vecti==1)],datay[vecti!=1]]\n",
    "    ent_cond[i] = entropie_cond(list_vecti)\n",
    "    diff_ent[i] = np.abs(ent[i] - ent_cond[i])\n",
    "    \n",
    "    #affichage\n",
    "    print(\"----------------------\")\n",
    "    print(fields[i])\n",
    "    print(\"entropie :\", ent[i])\n",
    "    print(\"entropie conditionnelle :\",ent_cond[i])\n",
    "    print(\"différence :\",diff_ent[i])\n"
   ]
  },
  {
   "cell_type": "markdown",
   "metadata": {},
   "source": [
    "##### A quoi correspond une valeur de 0 ? une valeur de 1 ?"
   ]
  },
  {
   "cell_type": "markdown",
   "metadata": {},
   "source": [
    "L'entropie pour un genre vaut 0 quand il n'y a pas de film de ce genre. Elle vaut 1 quand tous les films sont de ce genre.\n",
    "\n",
    "Il y a une majorité de films de genre Drama, donc, c'est pour ce genre que l'entropie est la plus grande (0.69). \n",
    "\n",
    "Il n'y a pas de films de genre Adult, News, Reality-TV, Talk-Show, Game-Show dans cette base, donc leur entropie est à 0."
   ]
  },
  {
   "cell_type": "markdown",
   "metadata": {},
   "source": [
    "##### Quel est le meilleur attribut pour la première partition ?"
   ]
  },
  {
   "cell_type": "markdown",
   "metadata": {},
   "source": [
    "L'entropie conditionelle permet de déterminer la quantité d'information nécessaire pour connaitre le comportement d'une variable aléatoire.\n",
    "Le meilleur attribut est celui dont l'entropie est maximale et l'entropie conditionelle est minimale."
   ]
  },
  {
   "cell_type": "code",
   "execution_count": 6,
   "metadata": {},
   "outputs": [
    {
     "name": "stdout",
     "output_type": "stream",
     "text": [
      "Drama\n",
      "Drama\n"
     ]
    }
   ],
   "source": [
    "print(fields[np.argmax(ent)])\n",
    "print(fields[np.argmin(ent_cond)])"
   ]
  },
  {
   "cell_type": "markdown",
   "metadata": {},
   "source": [
    "Le meilleur attribut pour la première partition la catégorie Drama."
   ]
  },
  {
   "cell_type": "markdown",
   "metadata": {},
   "source": [
    "## Quelques expériences préliminaires"
   ]
  },
  {
   "cell_type": "markdown",
   "metadata": {},
   "source": [
    "#### 1.4  Sur la base de données imdb, apprendre quelques arbres de profondeurs différentes. Visualiser-les."
   ]
  },
  {
   "cell_type": "code",
   "execution_count": 7,
   "metadata": {},
   "outputs": [],
   "source": [
    "def generate_dt(taille_max, min_samples_split = 2):\n",
    "    dt = DTree ()\n",
    "    dt.max_depth = taille_max # on fixe la taille max de l ’ arbre\n",
    "    dt.min_samples_split = 2 # nombre minimum d ’ exemples pour spliter un noeud\n",
    "    return dt"
   ]
  },
  {
   "cell_type": "code",
   "execution_count": 8,
   "metadata": {},
   "outputs": [
    {
     "name": "stdout",
     "output_type": "stream",
     "text": [
      "Profondeur maximum =  3 :\n",
      "   Score =  0.7183344233703945 \n",
      "\n",
      "Profondeur maximum =  5 :\n",
      "   Score =  0.736647045999564 \n",
      "\n",
      "Profondeur maximum =  7 :\n",
      "   Score =  0.775888380204927 \n",
      "\n",
      "Profondeur maximum =  9 :\n",
      "   Score =  0.8238500109003706 \n",
      "\n",
      "Profondeur maximum =  11 :\n",
      "   Score =  0.8724656638325703 \n",
      "\n",
      "Profondeur maximum =  13 :\n",
      "   Score =  0.9117069980379333 \n",
      "\n",
      "Profondeur maximum =  15 :\n",
      "   Score =  0.9481142358840201 \n",
      "\n"
     ]
    }
   ],
   "source": [
    "save = False\n",
    "for taille_max in range(3,16, 2):\n",
    "    print('Profondeur maximum = ',taille_max,':')\n",
    "    dt = generate_dt(taille_max)\n",
    "    dt.fit(datax, datay)\n",
    "    dt.predict(datax[:5 ,:])\n",
    "    print('   Score = ',dt.score(datax, datay), '\\n')\n",
    "    tdot = export_graphviz ( dt , feature_names = id2genre )\n",
    "    if save :\n",
    "        pydotplus.graph_from_dot_data(tdot).write_pdf('./figs/tree'+str(taille_max)+'.pdf')\n"
   ]
  },
  {
   "cell_type": "code",
   "execution_count": 9,
   "metadata": {},
   "outputs": [
    {
     "data": {
      "text/html": [
       "\n",
       "        <iframe\n",
       "            width=\"600\"\n",
       "            height=\"300\"\n",
       "            src=\"./figs/tree3.pdf\"\n",
       "            frameborder=\"0\"\n",
       "            allowfullscreen\n",
       "        ></iframe>\n",
       "        "
      ],
      "text/plain": [
       "<IPython.lib.display.IFrame at 0x7f9f8390ce50>"
      ]
     },
     "execution_count": 9,
     "metadata": {},
     "output_type": "execute_result"
    }
   ],
   "source": [
    "IFrame(\"./figs/tree3.pdf\", width=600, height=300)"
   ]
  },
  {
   "cell_type": "code",
   "execution_count": 10,
   "metadata": {},
   "outputs": [
    {
     "data": {
      "text/html": [
       "\n",
       "        <iframe\n",
       "            width=\"600\"\n",
       "            height=\"300\"\n",
       "            src=\"./figs/tree5.pdf\"\n",
       "            frameborder=\"0\"\n",
       "            allowfullscreen\n",
       "        ></iframe>\n",
       "        "
      ],
      "text/plain": [
       "<IPython.lib.display.IFrame at 0x7f9f80eccc90>"
      ]
     },
     "execution_count": 10,
     "metadata": {},
     "output_type": "execute_result"
    }
   ],
   "source": [
    "IFrame(\"./figs/tree5.pdf\", width=600, height=300)"
   ]
  },
  {
   "cell_type": "markdown",
   "metadata": {},
   "source": [
    "##### Que remarquez-vous quant au nombre d’exemples séparés à chaque niveau en fonction de la profondeur ?"
   ]
  },
  {
   "cell_type": "markdown",
   "metadata": {},
   "source": [
    "On remarque que plus on est en profondeur dans l'arbre, moins d'exemples sont separés. C'est tout à fait logique puisque l'on veut discriminer les exemples de plus en plus afin de les classer"
   ]
  },
  {
   "cell_type": "markdown",
   "metadata": {},
   "source": [
    "##### 1.5 - Calculer les scores de bonne classification. Comment ils évoluent en fonction de la profondeur ? Est-ce normal ?\n",
    "Les scores s'améliorent avec la profondeur. C'est logique car il y a plus de séparations de cas donc on gagne en précision. Il faudra néanmoins faire attention au sur apprentissage."
   ]
  },
  {
   "cell_type": "markdown",
   "metadata": {},
   "source": [
    "##### 1.6 - Ces scores sont-ils un indicateur fiable du comportement de l’algorithme ? Comment obtenir un indicateur plus fiable ?"
   ]
  },
  {
   "cell_type": "markdown",
   "metadata": {},
   "source": [
    "Ces scores ne sont pas un indicateur fiable du comportement de l'algorithme, étant donné qu'ils sont calculés sur l'ensemble des données. Il faudrait les séparer en données d'apprentissage et donées de test."
   ]
  },
  {
   "cell_type": "markdown",
   "metadata": {},
   "source": [
    "## Sur et sous-apprentissage"
   ]
  },
  {
   "cell_type": "markdown",
   "metadata": {},
   "source": [
    "##### 1.7 - Pour différents partitionnement, par exemple des partages en (0.2, 0.8), (0.5, 0.5), (0.8, 0.2)), tracer les courbes de l’erreur en apprentissage et de l’erreur en test en fonction de la profondeur du modèle."
   ]
  },
  {
   "cell_type": "code",
   "execution_count": 11,
   "metadata": {},
   "outputs": [],
   "source": [
    "def partage(datax, datay, pourc_app):\n",
    "    n = len(datax)\n",
    "    datax_app = datax[:int(n*pourc_app)]\n",
    "    datax_test = datax[int(n*pourc_app):]\n",
    "    datay_app = datay[:int(n*pourc_app)]\n",
    "    datay_test = datay[int(n*pourc_app):]\n",
    "    return datax_app, datax_test, datay_app, datay_test"
   ]
  },
  {
   "cell_type": "code",
   "execution_count": 12,
   "metadata": {},
   "outputs": [],
   "source": [
    "def compute_error(depths):\n",
    "    scores_app = [] \n",
    "    scores_test = [] \n",
    "    for max_depth in depths :\n",
    "        id2genre = [ x[1] for x in sorted (fields.items())[:-2]]\n",
    "        dt = generate_dt(max_depth)\n",
    "        dt.fit(datax_app, datay_app)\n",
    "        scores_app.append(1 - dt.score(datax_app, datay_app))\n",
    "        scores_test.append(1 - dt.score(datax_test, datay_test))\n",
    "        #tdot = export_graphviz ( dt , feature_names = id2genre )\n",
    "        #pydotplus.graph_from_dot_data(tdot).write_pdf('tree_test1.pdf')\n",
    "    plt.figure()\n",
    "    plt.plot(depths, scores_app,label=\"train\")\n",
    "    plt.plot(depths, scores_test,label=\"test\")\n",
    "    plt.xlabel(\"profondeur\")\n",
    "    plt.ylabel(\"erreur\")\n",
    "    plt.legend()\n",
    "\n",
    "  \n",
    "    plt.show()\n",
    "\n",
    "def plot_error(scores_app, scores_test):\n",
    "    plt.figure()\n",
    "    plt.plot(depths, scores_app,label=\"train\")\n",
    "    plt.plot(depths, scores_test,label=\"test\")\n",
    "    plt.xlabel(\"profondeur\")\n",
    "    plt.ylabel(\"erreur\")\n",
    "    plt.legend()\n",
    "\n",
    "  \n",
    "    plt.show()"
   ]
  },
  {
   "cell_type": "code",
   "execution_count": 13,
   "metadata": {},
   "outputs": [],
   "source": [
    "depths = np.arange(1, 21, 2)"
   ]
  },
  {
   "cell_type": "markdown",
   "metadata": {},
   "source": [
    "#### Partage en (0.2, 0.8) - 20% d'apprentissage: "
   ]
  },
  {
   "cell_type": "code",
   "execution_count": 14,
   "metadata": {},
   "outputs": [
    {
     "data": {
      "image/png": "[encoded data removed]",
      "text/plain": [
       "<Figure size 432x288 with 1 Axes>"
      ]
     },
     "metadata": {
      "needs_background": "light"
     },
     "output_type": "display_data"
    }
   ],
   "source": [
    "datax_app, datax_test, datay_app, datay_test = partage(datax, datay, 0.2)\n",
    "compute_error(depths)"
   ]
  },
  {
   "cell_type": "markdown",
   "metadata": {},
   "source": [
    "#### Partage en (0.5, 0.5) - 50% d'apprentissage: "
   ]
  },
  {
   "cell_type": "code",
   "execution_count": 15,
   "metadata": {},
   "outputs": [
    {
     "data": {
      "image/png": "[encoded data removed]",
      "text/plain": [
       "<Figure size 432x288 with 1 Axes>"
      ]
     },
     "metadata": {
      "needs_background": "light"
     },
     "output_type": "display_data"
    }
   ],
   "source": [
    "datax_app, datax_test, datay_app, datay_test = partage(datax, datay, 0.5)\n",
    "compute_error(depths)"
   ]
  },
  {
   "cell_type": "markdown",
   "metadata": {},
   "source": [
    "#### Partage en (0.8, 0.2) - 80% d'apprentissage: "
   ]
  },
  {
   "cell_type": "code",
   "execution_count": 16,
   "metadata": {},
   "outputs": [
    {
     "data": {
      "image/png": "[encoded data removed]",
      "text/plain": [
       "<Figure size 432x288 with 1 Axes>"
      ]
     },
     "metadata": {
      "needs_background": "light"
     },
     "output_type": "display_data"
    }
   ],
   "source": [
    "datax_app, datax_test, datay_app, datay_test = partage(datax, datay, 0.8)\n",
    "compute_error(depths)"
   ]
  },
  {
   "cell_type": "markdown",
   "metadata": {},
   "source": [
    "##### 1.8 Que remarquez vous quand il y a peu d’exemples d’apprentissage ? Comment progresse l’erreur ? De même quand il y a beaucoup d’exemples d’apprentissage. Est-ce le même comportement pour les deux erreurs ?"
   ]
  },
  {
   "cell_type": "markdown",
   "metadata": {},
   "source": [
    "Plus il y a d'exemples d'apprentissage, plus il y a d'erreurs en apprentissage. \n",
    "Cependant, en augmentant la profondeur de l'arbre, cette difference disparait, car dans tous les cas, le sur-apprentissage signifie de moins en moins d'erreurs en apprentissage.\n",
    "\n",
    "Quant à l'erreur en test, son évolution est logique. En effet, jusqu'à une certaine profondeur d'arbre, l'erreur en test diminue car on est encore dans un cadre d'apprentissage. Cependant à partir d'une certaine profondeur, l'erreur en test commence à augmenter car on est passé à du sur-apprentissage. \n"
   ]
  },
  {
   "cell_type": "markdown",
   "metadata": {},
   "source": [
    "##### 1.9 Vos résultats vous semblent ils fiables et stables ? Comment les améliorer ?"
   ]
  },
  {
   "cell_type": "markdown",
   "metadata": {},
   "source": [
    "Nos résultats sont plus fiables qu'auparavant, mais pour les améliorer, il faudrait utiliser la validation croisée pour choisir les meilleurs paramètres pour notre modèle."
   ]
  },
  {
   "cell_type": "markdown",
   "metadata": {},
   "source": [
    "## Validation croisée : sélection de modèle"
   ]
  },
  {
   "cell_type": "markdown",
   "metadata": {},
   "source": [
    "Essayons de trouver la meilleur valeur pour la profondeur max d'un arbre de décision."
   ]
  },
  {
   "cell_type": "code",
   "execution_count": 17,
   "metadata": {},
   "outputs": [],
   "source": [
    "# ------------------------\n",
    "def crossval(X, Y, n_iterations, iteration):\n",
    "    n = int(len(X)/n_iterations)\n",
    "    Xtest = X[iteration*(n): (iteration+1)*(n)]\n",
    "    Ytest = Y[iteration*n: (iteration+1)*n]\n",
    "\n",
    "    Xapp= np.concatenate((X[0:iteration*n], X[(iteration+1)*n:len(X)]))\n",
    "    Yapp = np.concatenate((Y[0:iteration*n], Y[(iteration+1)*n:len(Y)]))\n",
    "\n",
    "    return Xapp, Yapp, Xtest, Ytest\n",
    "\n",
    "# --------------------------\n",
    "def crossval_strat(X, Y, n_iterations, iteration):\n",
    "    Yuniques = np.unique(Y)\n",
    "    nbClasses = len(Yuniques)\n",
    "    Xs = []\n",
    "    Ys = []\n",
    "    Xapp = []\n",
    "    Yapp = []\n",
    "    Xtest = []\n",
    "    Ytest = []\n",
    "\n",
    "    for i in range(nbClasses):\n",
    "        x = np.array([ X[i] for i in np.where((Y==Yuniques[i]))[0]])\n",
    "        y = np.array([ Y[i] for i in np.where((Y==Yuniques[i]))[0]])\n",
    "\n",
    "        Xapptmp, Yapptmp, Xtesttmp, Ytesttmp = crossval(x, y, n_iterations, iteration)\n",
    "        Xapp.extend(Xapptmp)\n",
    "        Yapp.extend(Yapptmp)\n",
    "        Xtest.extend(Xtesttmp)\n",
    "        Ytest.extend(Ytesttmp)\n",
    "    return np.array(Xapp),np.array( Yapp), np.array(Xtest), np.array(Ytest)\n",
    "\n",
    "# --------------------------"
   ]
  },
  {
   "cell_type": "code",
   "execution_count": 18,
   "metadata": {},
   "outputs": [
    {
     "name": "stdout",
     "output_type": "stream",
     "text": [
      "Maximum depth =  3\n",
      "\t0.004228 secondes d'apprentissage.\n",
      "\tPerformance :  0.7071038251366122 \n",
      "\n",
      "Maximum depth =  4\n",
      "\t0.005163 secondes d'apprentissage.\n",
      "\tPerformance :  0.716120218579235 \n",
      "\n",
      "Maximum depth =  5\n",
      "\t0.005684 secondes d'apprentissage.\n",
      "\tPerformance :  0.7169398907103826 \n",
      "\n",
      "Maximum depth =  6\n",
      "\t0.007221 secondes d'apprentissage.\n",
      "\tPerformance :  0.7193989071038251 \n",
      "\n",
      "Maximum depth =  7\n",
      "\t0.008837 secondes d'apprentissage.\n",
      "\tPerformance :  0.7109289617486338 \n",
      "\n",
      "Maximum depth =  8\n",
      "\t0.008109 secondes d'apprentissage.\n",
      "\tPerformance :  0.7172131147540984 \n",
      "\n",
      "Maximum depth =  9\n",
      "\t0.009402 secondes d'apprentissage.\n",
      "\tPerformance :  0.7150273224043715 \n",
      "\n",
      "Maximum depth =  10\n",
      "\t0.01068 secondes d'apprentissage.\n",
      "\tPerformance :  0.7142076502732241 \n",
      "\n",
      "Maximum depth =  11\n",
      "\t0.0116 secondes d'apprentissage.\n",
      "\tPerformance :  0.7087431693989071 \n",
      "\n",
      "Maximum depth =  12\n",
      "\t0.01323 secondes d'apprentissage.\n",
      "\tPerformance :  0.703551912568306 \n",
      "\n",
      "On obtient les meilleurs résultats avec une profondeur maximum de 6\n"
     ]
    }
   ],
   "source": [
    "#on va tester sur 10 profondeurs (de 3 à 13)\n",
    "depths = np.arange(3,13)\n",
    "all_perf = []\n",
    "for depth in depths:  \n",
    "    print(\"Maximum depth = \", depth)\n",
    "    perf_T = []\n",
    "    #perf_A = []\n",
    "    times = []\n",
    "    niter=10\n",
    "    for i in range(niter):\n",
    "\n",
    "        Xapp,Yapp,Xtest,Ytest = crossval_strat(datax_app, datay_app, niter, i)\n",
    "        dt = generate_dt(depth)\n",
    "        tic= time.time()\n",
    "        dt.fit(Xapp, Yapp)\n",
    "        toc= time.time()\n",
    "        times.append((toc -tic))\n",
    "        #print(\"Iteration\", i+1, f\": Trained en {(toc-tic):.4} secondes\")\n",
    "        perf_T.append(dt.score(Xtest, Ytest))\n",
    "        #perf_A.append(dt.score(Xapp, Yapp))\n",
    "\n",
    "    print(f\"\\t{sum(times)/len(times):.4} secondes d'apprentissage.\")\n",
    "    #print(\"Perf A (apprentissage): \", ev.analyse_perfs(perf_A))\n",
    "    print(\"\\tPerformance : \", np.mean(perf_T), \"\\n\")\n",
    "    all_perf.append(np.mean(perf_T))\n",
    "\n",
    "print(\"On obtient les meilleurs résultats avec une profondeur maximum de\", depths[np.argmax(all_perf)])"
   ]
  },
  {
   "cell_type": "markdown",
   "metadata": {},
   "source": [
    "Avec la validation croisée, on remarque que l'on obtient les meilleurs résultats avec une profondeur de 6.\n",
    "A présent, on teste donc notre modèle sur les données de test avec la profondeur à 6"
   ]
  },
  {
   "cell_type": "code",
   "execution_count": 19,
   "metadata": {},
   "outputs": [
    {
     "name": "stdout",
     "output_type": "stream",
     "text": [
      "Performance en test avec prof = 6:  0.7113289760348583\n"
     ]
    }
   ],
   "source": [
    "depth = 6\n",
    "dt = generate_dt(depth)\n",
    "dt.fit(datax_app, datay_app)\n",
    "print(\"Performance en test avec prof = 6: \" ,dt.score(datax_test, datay_test))\n"
   ]
  }
 ],
 "metadata": {
  "kernelspec": {
   "display_name": "Python 3",
   "language": "python",
   "name": "python3"
  },
  "language_info": {
   "codemirror_mode": {
    "name": "ipython",
    "version": 3
   },
   "file_extension": ".py",
   "mimetype": "text/x-python",
   "name": "python",
   "nbconvert_exporter": "python",
   "pygments_lexer": "ipython3",
   "version": "3.7.4"
  }
 },
 "nbformat": 4,
 "nbformat_minor": 5
}
