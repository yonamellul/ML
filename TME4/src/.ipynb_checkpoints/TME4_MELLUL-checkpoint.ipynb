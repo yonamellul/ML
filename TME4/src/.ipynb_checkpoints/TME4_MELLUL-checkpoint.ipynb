{
 "cells": [
  {
   "cell_type": "markdown",
   "metadata": {},
   "source": [
    "# TME4 - Perceptron"
   ]
  },
  {
   "cell_type": "code",
   "execution_count": 12,
   "metadata": {},
   "outputs": [],
   "source": [
    "import numpy as np\n",
    "import matplotlib.pyplot as plt\n",
    "from matplotlib import cm\n",
    "from mltools import plot_data, plot_frontiere, make_grid, gen_arti\n"
   ]
  },
  {
   "cell_type": "code",
   "execution_count": 13,
   "metadata": {},
   "outputs": [],
   "source": [
    "def load_usps(fn):\n",
    "    with open(fn,\"r\") as f:\n",
    "        f.readline()\n",
    "        data = [[float(x) for x in l.split()] for l in f if len(l.split())>2]\n",
    "    tmp=np.array(data)\n",
    "    return tmp[:,1:],tmp[:,0].astype(int)\n",
    "\n",
    "def get_usps(l,datax,datay):\n",
    "    if type(l)!=list:\n",
    "        resx = datax[datay==l,:]\n",
    "        resy = datay[datay==l]\n",
    "        return resx,resy\n",
    "    tmp =   list(zip(*[get_usps(i,datax,datay) for i in l]))\n",
    "    tmpx,tmpy = np.vstack(tmp[0]),np.hstack(tmp[1])\n",
    "    return tmpx,tmpy\n",
    "\n",
    "def show_usps(data):\n",
    "    plt.figure()\n",
    "    plt.imshow(data.reshape((16,16)),interpolation=\"nearest\",cmap=\"hot\")\n",
    "    plt.colorbar()\n",
    "\n"
   ]
  },
  {
   "cell_type": "markdown",
   "metadata": {},
   "source": [
    "## Perceptron et classe Linéaire"
   ]
  },
  {
   "cell_type": "markdown",
   "metadata": {},
   "source": [
    "Implémentez la fonction perceptron_loss(w,x,y) qui rend le coût perceptron (max(0, −y < x.w >)\n",
    "et son gradient perceptron_grad(w,x,y).\n",
    "Afin d’être plus générique et plus flexible, plutôt que d’implémenter une version script de la descente\n",
    "de gradient, nous allons coder une classe Lineaire qui va regrouper les différentes variantes possibles.\n",
    "Un squelette de classe est fourni dans le fichier source : il contient principalement le constructeur qui\n",
    "initialise les paramètres du modèle (le coût utilisé loss, son gradient loss_g, le nombre d’itération\n",
    "de la descente du gradient max_iter, le pas eps, le vecteur de poids w). Complétez le squelette en\n",
    "implémentant :\n",
    "- la méthode predict(self,datax) qui permet d’inférer le label des données datax (i.e. qui calcule sign(< w.x >))\n",
    "- la méthode score(self,datax,datay) qui permet de calculer le pourcentage de bonne classification sur le jeu de données passé en paramètre.\n",
    "- la méthode fit(self,datax,datay) permet de faire la descente de gradient pendant max_iter itérations avec un pas eps en utilisant le coût loss et le gradient loss_g. Ainsi pour faire un perceptron, il suffira de passer lors de la construction de l’objet le coût et le gradient du coût perceptron. Votre méthode devra également conserver en mémoire l’historique des coûts en fonction des itérations.\n",
    "\n",
    "Comme dans le précédent TME, vos méthodes doivent prendre en entrée des matrices de données (et\n",
    "non pas une seule donnée). Testez votre classe sur l’exemple de la semaine dernière."
   ]
  },
  {
   "cell_type": "code",
   "execution_count": 14,
   "metadata": {},
   "outputs": [],
   "source": [
    "def perceptron_loss(w,x,y):\n",
    "    \"\"\"\n",
    "    array**3 -> float\n",
    "    x : n lignes, d colonnes\n",
    "    w : d lignes, 1 colonne\n",
    "    y : n lignes, 1 colonne\n",
    "    Retourne le cout perceptron (hinge-loss)\n",
    "    \"\"\"\n",
    "    y = y.reshape(-1,1)\n",
    "    w = w.reshape(-1,1)\n",
    "    x = x.reshape(y.shape[0],w.shape[0])\n",
    "    return np.maximum(0,-y*(x@w))\n",
    "\n",
    "def perceptron_grad(w,x,y):\n",
    "    \"\"\"\n",
    "    array**3 -> float\n",
    "    x : n lignes, d colonnes\n",
    "    w : d lignes, 1 colonne\n",
    "    y : n lignes, 1 colonne\n",
    "    Retourne le cout du gradient du perceptron (gradient du hinge-loss)\n",
    "    \"\"\"\n",
    "    y = y.reshape(-1,1)\n",
    "    w = w.reshape(-1,1)\n",
    "    x = x.reshape(y.shape[0],w.shape[0])\n",
    "    return np.where((-y*x)*perceptron_loss(w,x,y) < 0, 0, -y*x)\n",
    "    "
   ]
  },
  {
   "cell_type": "code",
   "execution_count": 15,
   "metadata": {},
   "outputs": [],
   "source": [
    "class Lineaire(object):\n",
    "    def __init__(self,loss=perceptron_loss,loss_g=perceptron_grad,max_iter=100,eps=0.01):\n",
    "        self.max_iter, self.eps = max_iter,eps\n",
    "        self.w = None\n",
    "        self.loss,self.loss_g = loss,loss_g\n",
    "        \n",
    "    def fit(self,datax,datay):\n",
    "        costs = []\n",
    "        self.w = np.random.randn(datax.shape[1],1)\n",
    "        datay = datay.reshape(-1,1)\n",
    "        \n",
    "        for i in range(self.max_iter):\n",
    "            self.w = self.w - self.eps * self.loss_g(self.w,datax,datay).mean(axis=0).reshape(-1,1)\n",
    "            costs.append(self.loss(self.w,datax,datay).sum())\n",
    "\n",
    "        return costs\n",
    "\n",
    "    def predict(self,datax):\n",
    "        return np.sign(datax@self.w)\n",
    "\n",
    "    def score(self,datax,datay):\n",
    "        yhat = self.predict(datax).reshape(-1)\n",
    "        return (yhat==datay).mean()\n"
   ]
  },
  {
   "cell_type": "markdown",
   "metadata": {},
   "source": [
    "## Données USPS"
   ]
  },
  {
   "cell_type": "markdown",
   "metadata": {},
   "source": [
    "Les données USPS sont des données de chiffres manuscrits représentés par une matrice de pixel en\n",
    "niveau de gris de taille 16 × 16. Le code pour les charger vous est fourni ainsi qu’une fonction de\n",
    "visualisation (load_usps et show_usps).\n",
    "Chargez les données et visualisez quelques exemples. Isolez 2 classes (par exemple les 6 vs 9 ) et entraînez\n",
    "un perceptron dessus. Visualisez la matrice de poids obtenue à l’aide de la fonction show_usps. Que\n",
    "remarquez vous ? Comment interpréter le résultat ?\n",
    "Observez la matrice de poids obtenue lorsque vous entraînez le perceptron avec une classe (6 par\n",
    "exemple) contre toutes les autres classes.\n",
    "En utilisant les données de test, tracer les courbes d’erreurs en apprentissage et en test en fonction du\n",
    "nombre d’itérations (vous pouvez modifier la fonction fit de la classe Linéraire afin qu’elle prenne\n",
    "également des données test en entrée). Observez-vous du sur-apprentissage ?"
   ]
  },
  {
   "cell_type": "code",
   "execution_count": 16,
   "metadata": {},
   "outputs": [
    {
     "name": "stdout",
     "output_type": "stream",
     "text": [
      "6 vs 9 :\n",
      "score train = 0.5076452599388379\n",
      "score test = 0.4899135446685879\n"
     ]
    },
    {
     "data": {
      "image/png": "[encoded data removed]",
      "text/plain": [
       "<Figure size 432x288 with 2 Axes>"
      ]
     },
     "metadata": {
      "needs_background": "light"
     },
     "output_type": "display_data"
    },
    {
     "data": {
      "image/png": "[encoded data removed]",
      "text/plain": [
       "<Figure size 432x288 with 1 Axes>"
      ]
     },
     "metadata": {
      "needs_background": "light"
     },
     "output_type": "display_data"
    },
    {
     "name": "stdout",
     "output_type": "stream",
     "text": [
      "6 vs others :\n",
      "score train = 0.4707173227266493\n",
      "score test = 0.43996013951170904\n"
     ]
    },
    {
     "data": {
      "image/png": "[encoded data removed]",
      "text/plain": [
       "<Figure size 432x288 with 2 Axes>"
      ]
     },
     "metadata": {
      "needs_background": "light"
     },
     "output_type": "display_data"
    },
    {
     "data": {
      "image/png": "[encoded data removed]",
      "text/plain": [
       "<Figure size 432x288 with 1 Axes>"
      ]
     },
     "metadata": {
      "needs_background": "light"
     },
     "output_type": "display_data"
    }
   ],
   "source": [
    "usps = True\n",
    "if usps:\n",
    "    uspsdatatrain = \"../data/USPS_train.txt\"\n",
    "    uspsdatatest = \"../data/USPS_test.txt\"\n",
    "    alltrainx,alltrainy = load_usps(uspsdatatrain)\n",
    "    alltestx,alltesty = load_usps(uspsdatatest)\n",
    "\n",
    "    # plt.figure()\n",
    "    # plt.imshow(alltrainx[0].reshape(16,16))\n",
    "    # plt.show()\n",
    "\n",
    "    oneVSone = True\n",
    "    oneVSall = True\n",
    "\n",
    "    if oneVSone:\n",
    "        # 6 vs 9\n",
    "        pos,neg = 6,9\n",
    "        datax,datay = get_usps([neg,pos],alltrainx,alltrainy)\n",
    "        testx,testy = get_usps([neg,pos],alltestx,alltesty)\n",
    "        datay_sign = np.where(datay==pos,1,-1)\n",
    "        testy_sign = np.where(testy==pos,1,-1)\n",
    "\n",
    "        L = Lineaire()\n",
    "\n",
    "        costs = L.fit(datax,datay)\n",
    "        show_usps(L.w)\n",
    "        plt.title(f\"{pos} vs {neg} : w\")\n",
    "\n",
    "        print(f\"{pos} vs {neg} :\")\n",
    "        print(\"score train =\", L.score(datax,datay_sign))\n",
    "        print(\"score test =\", L.score(testx,testy_sign))\n",
    "\n",
    "        plt.figure()\n",
    "        plt.plot(costs)\n",
    "        plt.title(f\"{pos} vs {neg} : costs\")\n",
    "\n",
    "        plt.show()\n",
    "\n",
    "    if oneVSall:\n",
    "        # 6 vs others\n",
    "        neg = 6\n",
    "        pos = [i for i in range(10) if i != neg]\n",
    "        datax,datay = get_usps([neg,pos],alltrainx,alltrainy)\n",
    "        testx,testy = get_usps([neg,pos],alltestx,alltesty)\n",
    "        datay_sign = np.where(datay==neg,-1,1)\n",
    "        testy_sign = np.where(testy==neg,-1,1)\n",
    "\n",
    "        L = Lineaire()\n",
    "\n",
    "        costs = L.fit(datax,datay_sign)\n",
    "        show_usps(L.w)\n",
    "        plt.title(f\"{neg} vs others : w\")\n",
    "\n",
    "        print(f\"{neg} vs others :\")\n",
    "        print(\"score train =\", L.score(datax,datay_sign))\n",
    "        print(\"score test =\", L.score(testx,testy_sign))\n",
    "\n",
    "        plt.figure()\n",
    "        plt.plot(costs)\n",
    "        plt.title(f\"{neg} vs others : costs\")\n",
    "\n",
    "        plt.show()"
   ]
  },
  {
   "cell_type": "markdown",
   "metadata": {},
   "source": [
    "## Mini-batch et descente stochastique"
   ]
  },
  {
   "cell_type": "markdown",
   "metadata": {},
   "source": [
    "Modifiez votre méthode fit afin de pouvoir faire une descente stochastique (les exemples sont ordonnés\n",
    "aléatoirement et un seul exemple est pris en compte lors du calcul du gradient et de la mise-à-jour des\n",
    "poids) et mini-batch (l’ensemble des exemples est divisé en petits batchs aléatoire de m exemples, le\n",
    "gradient est moyenné sur chaque batch avant de faire la mise-à-jour). Afin de comparer équitablement les différentes variantes, le paramètre max_iter dénotera le nombre d’époques et non le nombre de\n",
    "mise-à-jour du gradient (une époque étant le fait d’avoir vu une fois tous les exemples). Vous pouvez\n",
    "remarquer que la descente stochastique correspond à une descente mini-batch de taille 1, et une descente\n",
    "batch à une descente mini-batch de taille le nombre d’exemples.\n",
    "Comparez la vitesse de convergence en particulier en fonction du bruit dans le jeu de données."
   ]
  },
  {
   "cell_type": "markdown",
   "metadata": {},
   "source": [
    "## Projections et pénalisation"
   ]
  },
  {
   "cell_type": "markdown",
   "metadata": {},
   "source": [
    "Afin d’augmenter l’expressivité du modèle linéaire, nous allons utiliser des projections. Codez la fonction proj_poly(datax) qui renvoie la projection polynomiale de degré 2 des données :\n",
    "\n",
    "(1, x1, x2, . . . , xd, x2\n",
    "1\n",
    ", x1x2, . . . x2\n",
    "d\n",
    ").\n",
    "\n",
    "Codez également la fonction proj_biais(datax) qui permet d’ajouter une colonne de 1 en première\n",
    "colonne des données afin d’introduire un biais.\n",
    "Modifiez votre constructeur pour qu’il prenne potentiellement une projection en paramètre, votre\n",
    "fonction fit afin qu’elle projette si besoin les données avant de faire l’apprentissage, ainsi que votre\n",
    "fonction predict.\n",
    "Testez votre projection polynomiale sur les données artificielles de la fonction gen_arti de type 1 et 2. Tracez les frontières de décision.\n",
    "Codez la fonction proj_gauss(datax,base,sigma) qui réalise une projection gaussienne de datax sur\n",
    "les points (b1, . . . , bb) de bases avec un paramètre sigma : pour une donnée x de datax, sa représentation est (e\n",
    "−∥x−b1∥\n",
    "2/2σ\n",
    ", e−∥x−b2∥\n",
    "2/2σ\n",
    ", . . . , e−∥x−bb∥\n",
    "2/2σ\n",
    ") et expérimentez sur les 3 jeu de données\n",
    "artificiels. Vaut-il mieux beaucoup de points ou peu de points pour la base de projection ? Un grand\n",
    "ou petit σ ? Quels sont les points qui ont le plus de poids ? Représentez les sur les figures et tracez les\n",
    "frontières.\n",
    "Vous pouvez également étudié l’effet d’une marge et d’une pénalisation sur les poids de la projection\n",
    "gaussienne : introduisez une nouvelle fonction de coût hinge_loss(w,x,y,alpha,lambda) qui retourne\n",
    "max(0, α−y < w.x >)+λ∥w∥\n",
    "2\n",
    "et son gradient hinge_loss_grad. Observez l’effet de alpha et lambda\n",
    "en particulier sur le problème de l’échiquier."
   ]
  },
  {
   "cell_type": "code",
   "execution_count": null,
   "metadata": {},
   "outputs": [],
   "source": []
  }
 ],
 "metadata": {
  "kernelspec": {
   "display_name": "Python 3",
   "language": "python",
   "name": "python3"
  },
  "language_info": {
   "codemirror_mode": {
    "name": "ipython",
    "version": 3
   },
   "file_extension": ".py",
   "mimetype": "text/x-python",
   "name": "python",
   "nbconvert_exporter": "python",
   "pygments_lexer": "ipython3",
   "version": "3.7.4"
  }
 },
 "nbformat": 4,
 "nbformat_minor": 2
}
